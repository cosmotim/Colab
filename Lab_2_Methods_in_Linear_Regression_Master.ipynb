{
  "nbformat": 4,
  "nbformat_minor": 0,
  "metadata": {
    "kernelspec": {
      "display_name": "Python 3",
      "language": "python",
      "name": "python3"
    },
    "language_info": {
      "codemirror_mode": {
        "name": "ipython",
        "version": 3
      },
      "file_extension": ".py",
      "mimetype": "text/x-python",
      "name": "python",
      "nbconvert_exporter": "python",
      "pygments_lexer": "ipython3",
      "version": "3.6.5"
    },
    "colab": {
      "name": "Lab 2 - Methods in Linear Regression Master.ipynb",
      "provenance": [],
      "include_colab_link": true
    }
  },
  "cells": [
    {
      "cell_type": "markdown",
      "metadata": {
        "id": "view-in-github",
        "colab_type": "text"
      },
      "source": [
        "<a href=\"https://colab.research.google.com/github/cosmotim/Colab/blob/master/Lab_2_Methods_in_Linear_Regression_Master.ipynb\" target=\"_parent\"><img src=\"https://colab.research.google.com/assets/colab-badge.svg\" alt=\"Open In Colab\"/></a>"
      ]
    },
    {
      "cell_type": "markdown",
      "metadata": {
        "id": "S5tC-dtqgeMM",
        "colab_type": "text"
      },
      "source": [
        "# Lab 2: Methods in Linear Regression\n",
        "\n",
        "In this lab we will canvas various techniques in linear regression analysis and apply them to the numerical variable in the Ames dataset. Some of the techniques, like Ridge Regression and Lasso Regression are already implemented in sci-kit learn, or statsmodels.api but some, like best subset regression, are not. \n",
        "\n",
        "In this lab, we'll be looking at __Linear Regression__, __Best Subset Selection__, __Forward Subset regression__, __Ridge Regression__ and __Lasso Regreesion__. We will be comparing these models using the number of degrees of freedom. We will be benchmarking these techniques using cross validation, that is by splitting our data into a training set and a test set and comparing the score on the test set. \n",
        "\n",
        "We will use two libraries in this lab: Sci-kit Learn and Statsmodel.api. Both have their uses and often implement similar functionality. The main difference is that Statsmodel.api is designed around statical computing, giving rich, human readable feedback the way the R might but at the cost that different functions behave differently. \n",
        "\n",
        "On the other hand, Sci-kit Learn is trying to implement a unified way of training and using any machine learning model. That is the syntax is the same for linear model, quadratic models, clusters, $k$-NN, etc. For example, for any Sci-kit model, `model.fit(X,Y)` will train the model on the data `X` with labels `Y` and `model.score(XT,YT)` will score the model on test data. \n",
        "\n",
        "We will discuss both libraries in this lab. "
      ]
    },
    {
      "cell_type": "markdown",
      "metadata": {
        "id": "q_sZHykFgeMQ",
        "colab_type": "text"
      },
      "source": [
        "#### Getting back to where we were\n",
        "\n",
        "Lets quickly download the Ames dataset and throw out the outliers recomended in the documentation. Recall\n",
        "\n",
        "<div class=\"alert alert-block alert-info\">\n",
        "SPECIAL NOTES:<br>\n",
        "There are 5 observations that an instructor may wish to remove from the data set before giving it to students (a plot of SALE PRICE versus GR LIV AREA will indicate them quickly). Three of them are true outliers (Partial Sales that likely don’t represent actual market values) and two of them are simply unusual sales (very large houses priced relatively appropriately). I would recommend removing any houses with more than 4000 square feet from the data set (which eliminates these 5 unusual observations) before assigning it to students.<br><br>\n",
        "\n",
        "http://jse.amstat.org/v19n3/decock/DataDocumentation.txt\n",
        "</div>\n",
        "\n",
        "Lets load in our standard libraries and dataset:"
      ]
    },
    {
      "cell_type": "code",
      "metadata": {
        "scrolled": true,
        "id": "4yASY-tegeMS",
        "colab_type": "code",
        "outputId": "89dd83a3-33f8-490b-d28e-751e54d79e2e",
        "colab": {
          "base_uri": "https://localhost:8080/",
          "height": 435
        }
      },
      "source": [
        "import pandas as pd\n",
        "import numpy as np\n",
        "from matplotlib import pyplot as plt\n",
        "import seaborn as sns\n",
        "\n",
        "url = 'https://raw.githubusercontent.com/tipthederiver/Math-7243-2020/master/Datasets/Ames/train.csv'\n",
        "\n",
        "ames = pd.read_csv(url, error_bad_lines=False)\n",
        "ames"
      ],
      "execution_count": 0,
      "outputs": [
        {
          "output_type": "execute_result",
          "data": {
            "text/html": [
              "<div>\n",
              "<style scoped>\n",
              "    .dataframe tbody tr th:only-of-type {\n",
              "        vertical-align: middle;\n",
              "    }\n",
              "\n",
              "    .dataframe tbody tr th {\n",
              "        vertical-align: top;\n",
              "    }\n",
              "\n",
              "    .dataframe thead th {\n",
              "        text-align: right;\n",
              "    }\n",
              "</style>\n",
              "<table border=\"1\" class=\"dataframe\">\n",
              "  <thead>\n",
              "    <tr style=\"text-align: right;\">\n",
              "      <th></th>\n",
              "      <th>Id</th>\n",
              "      <th>MSSubClass</th>\n",
              "      <th>MSZoning</th>\n",
              "      <th>LotFrontage</th>\n",
              "      <th>LotArea</th>\n",
              "      <th>Street</th>\n",
              "      <th>Alley</th>\n",
              "      <th>LotShape</th>\n",
              "      <th>LandContour</th>\n",
              "      <th>Utilities</th>\n",
              "      <th>LotConfig</th>\n",
              "      <th>LandSlope</th>\n",
              "      <th>Neighborhood</th>\n",
              "      <th>Condition1</th>\n",
              "      <th>Condition2</th>\n",
              "      <th>BldgType</th>\n",
              "      <th>HouseStyle</th>\n",
              "      <th>OverallQual</th>\n",
              "      <th>OverallCond</th>\n",
              "      <th>YearBuilt</th>\n",
              "      <th>YearRemodAdd</th>\n",
              "      <th>RoofStyle</th>\n",
              "      <th>RoofMatl</th>\n",
              "      <th>Exterior1st</th>\n",
              "      <th>Exterior2nd</th>\n",
              "      <th>MasVnrType</th>\n",
              "      <th>MasVnrArea</th>\n",
              "      <th>ExterQual</th>\n",
              "      <th>ExterCond</th>\n",
              "      <th>Foundation</th>\n",
              "      <th>BsmtQual</th>\n",
              "      <th>BsmtCond</th>\n",
              "      <th>BsmtExposure</th>\n",
              "      <th>BsmtFinType1</th>\n",
              "      <th>BsmtFinSF1</th>\n",
              "      <th>BsmtFinType2</th>\n",
              "      <th>BsmtFinSF2</th>\n",
              "      <th>BsmtUnfSF</th>\n",
              "      <th>TotalBsmtSF</th>\n",
              "      <th>Heating</th>\n",
              "      <th>...</th>\n",
              "      <th>CentralAir</th>\n",
              "      <th>Electrical</th>\n",
              "      <th>1stFlrSF</th>\n",
              "      <th>2ndFlrSF</th>\n",
              "      <th>LowQualFinSF</th>\n",
              "      <th>GrLivArea</th>\n",
              "      <th>BsmtFullBath</th>\n",
              "      <th>BsmtHalfBath</th>\n",
              "      <th>FullBath</th>\n",
              "      <th>HalfBath</th>\n",
              "      <th>BedroomAbvGr</th>\n",
              "      <th>KitchenAbvGr</th>\n",
              "      <th>KitchenQual</th>\n",
              "      <th>TotRmsAbvGrd</th>\n",
              "      <th>Functional</th>\n",
              "      <th>Fireplaces</th>\n",
              "      <th>FireplaceQu</th>\n",
              "      <th>GarageType</th>\n",
              "      <th>GarageYrBlt</th>\n",
              "      <th>GarageFinish</th>\n",
              "      <th>GarageCars</th>\n",
              "      <th>GarageArea</th>\n",
              "      <th>GarageQual</th>\n",
              "      <th>GarageCond</th>\n",
              "      <th>PavedDrive</th>\n",
              "      <th>WoodDeckSF</th>\n",
              "      <th>OpenPorchSF</th>\n",
              "      <th>EnclosedPorch</th>\n",
              "      <th>3SsnPorch</th>\n",
              "      <th>ScreenPorch</th>\n",
              "      <th>PoolArea</th>\n",
              "      <th>PoolQC</th>\n",
              "      <th>Fence</th>\n",
              "      <th>MiscFeature</th>\n",
              "      <th>MiscVal</th>\n",
              "      <th>MoSold</th>\n",
              "      <th>YrSold</th>\n",
              "      <th>SaleType</th>\n",
              "      <th>SaleCondition</th>\n",
              "      <th>SalePrice</th>\n",
              "    </tr>\n",
              "  </thead>\n",
              "  <tbody>\n",
              "    <tr>\n",
              "      <th>0</th>\n",
              "      <td>1</td>\n",
              "      <td>60</td>\n",
              "      <td>RL</td>\n",
              "      <td>65.0</td>\n",
              "      <td>8450</td>\n",
              "      <td>Pave</td>\n",
              "      <td>NaN</td>\n",
              "      <td>Reg</td>\n",
              "      <td>Lvl</td>\n",
              "      <td>AllPub</td>\n",
              "      <td>Inside</td>\n",
              "      <td>Gtl</td>\n",
              "      <td>CollgCr</td>\n",
              "      <td>Norm</td>\n",
              "      <td>Norm</td>\n",
              "      <td>1Fam</td>\n",
              "      <td>2Story</td>\n",
              "      <td>7</td>\n",
              "      <td>5</td>\n",
              "      <td>2003</td>\n",
              "      <td>2003</td>\n",
              "      <td>Gable</td>\n",
              "      <td>CompShg</td>\n",
              "      <td>VinylSd</td>\n",
              "      <td>VinylSd</td>\n",
              "      <td>BrkFace</td>\n",
              "      <td>196.0</td>\n",
              "      <td>Gd</td>\n",
              "      <td>TA</td>\n",
              "      <td>PConc</td>\n",
              "      <td>Gd</td>\n",
              "      <td>TA</td>\n",
              "      <td>No</td>\n",
              "      <td>GLQ</td>\n",
              "      <td>706</td>\n",
              "      <td>Unf</td>\n",
              "      <td>0</td>\n",
              "      <td>150</td>\n",
              "      <td>856</td>\n",
              "      <td>GasA</td>\n",
              "      <td>...</td>\n",
              "      <td>Y</td>\n",
              "      <td>SBrkr</td>\n",
              "      <td>856</td>\n",
              "      <td>854</td>\n",
              "      <td>0</td>\n",
              "      <td>1710</td>\n",
              "      <td>1</td>\n",
              "      <td>0</td>\n",
              "      <td>2</td>\n",
              "      <td>1</td>\n",
              "      <td>3</td>\n",
              "      <td>1</td>\n",
              "      <td>Gd</td>\n",
              "      <td>8</td>\n",
              "      <td>Typ</td>\n",
              "      <td>0</td>\n",
              "      <td>NaN</td>\n",
              "      <td>Attchd</td>\n",
              "      <td>2003.0</td>\n",
              "      <td>RFn</td>\n",
              "      <td>2</td>\n",
              "      <td>548</td>\n",
              "      <td>TA</td>\n",
              "      <td>TA</td>\n",
              "      <td>Y</td>\n",
              "      <td>0</td>\n",
              "      <td>61</td>\n",
              "      <td>0</td>\n",
              "      <td>0</td>\n",
              "      <td>0</td>\n",
              "      <td>0</td>\n",
              "      <td>NaN</td>\n",
              "      <td>NaN</td>\n",
              "      <td>NaN</td>\n",
              "      <td>0</td>\n",
              "      <td>2</td>\n",
              "      <td>2008</td>\n",
              "      <td>WD</td>\n",
              "      <td>Normal</td>\n",
              "      <td>208500</td>\n",
              "    </tr>\n",
              "    <tr>\n",
              "      <th>1</th>\n",
              "      <td>2</td>\n",
              "      <td>20</td>\n",
              "      <td>RL</td>\n",
              "      <td>80.0</td>\n",
              "      <td>9600</td>\n",
              "      <td>Pave</td>\n",
              "      <td>NaN</td>\n",
              "      <td>Reg</td>\n",
              "      <td>Lvl</td>\n",
              "      <td>AllPub</td>\n",
              "      <td>FR2</td>\n",
              "      <td>Gtl</td>\n",
              "      <td>Veenker</td>\n",
              "      <td>Feedr</td>\n",
              "      <td>Norm</td>\n",
              "      <td>1Fam</td>\n",
              "      <td>1Story</td>\n",
              "      <td>6</td>\n",
              "      <td>8</td>\n",
              "      <td>1976</td>\n",
              "      <td>1976</td>\n",
              "      <td>Gable</td>\n",
              "      <td>CompShg</td>\n",
              "      <td>MetalSd</td>\n",
              "      <td>MetalSd</td>\n",
              "      <td>None</td>\n",
              "      <td>0.0</td>\n",
              "      <td>TA</td>\n",
              "      <td>TA</td>\n",
              "      <td>CBlock</td>\n",
              "      <td>Gd</td>\n",
              "      <td>TA</td>\n",
              "      <td>Gd</td>\n",
              "      <td>ALQ</td>\n",
              "      <td>978</td>\n",
              "      <td>Unf</td>\n",
              "      <td>0</td>\n",
              "      <td>284</td>\n",
              "      <td>1262</td>\n",
              "      <td>GasA</td>\n",
              "      <td>...</td>\n",
              "      <td>Y</td>\n",
              "      <td>SBrkr</td>\n",
              "      <td>1262</td>\n",
              "      <td>0</td>\n",
              "      <td>0</td>\n",
              "      <td>1262</td>\n",
              "      <td>0</td>\n",
              "      <td>1</td>\n",
              "      <td>2</td>\n",
              "      <td>0</td>\n",
              "      <td>3</td>\n",
              "      <td>1</td>\n",
              "      <td>TA</td>\n",
              "      <td>6</td>\n",
              "      <td>Typ</td>\n",
              "      <td>1</td>\n",
              "      <td>TA</td>\n",
              "      <td>Attchd</td>\n",
              "      <td>1976.0</td>\n",
              "      <td>RFn</td>\n",
              "      <td>2</td>\n",
              "      <td>460</td>\n",
              "      <td>TA</td>\n",
              "      <td>TA</td>\n",
              "      <td>Y</td>\n",
              "      <td>298</td>\n",
              "      <td>0</td>\n",
              "      <td>0</td>\n",
              "      <td>0</td>\n",
              "      <td>0</td>\n",
              "      <td>0</td>\n",
              "      <td>NaN</td>\n",
              "      <td>NaN</td>\n",
              "      <td>NaN</td>\n",
              "      <td>0</td>\n",
              "      <td>5</td>\n",
              "      <td>2007</td>\n",
              "      <td>WD</td>\n",
              "      <td>Normal</td>\n",
              "      <td>181500</td>\n",
              "    </tr>\n",
              "    <tr>\n",
              "      <th>2</th>\n",
              "      <td>3</td>\n",
              "      <td>60</td>\n",
              "      <td>RL</td>\n",
              "      <td>68.0</td>\n",
              "      <td>11250</td>\n",
              "      <td>Pave</td>\n",
              "      <td>NaN</td>\n",
              "      <td>IR1</td>\n",
              "      <td>Lvl</td>\n",
              "      <td>AllPub</td>\n",
              "      <td>Inside</td>\n",
              "      <td>Gtl</td>\n",
              "      <td>CollgCr</td>\n",
              "      <td>Norm</td>\n",
              "      <td>Norm</td>\n",
              "      <td>1Fam</td>\n",
              "      <td>2Story</td>\n",
              "      <td>7</td>\n",
              "      <td>5</td>\n",
              "      <td>2001</td>\n",
              "      <td>2002</td>\n",
              "      <td>Gable</td>\n",
              "      <td>CompShg</td>\n",
              "      <td>VinylSd</td>\n",
              "      <td>VinylSd</td>\n",
              "      <td>BrkFace</td>\n",
              "      <td>162.0</td>\n",
              "      <td>Gd</td>\n",
              "      <td>TA</td>\n",
              "      <td>PConc</td>\n",
              "      <td>Gd</td>\n",
              "      <td>TA</td>\n",
              "      <td>Mn</td>\n",
              "      <td>GLQ</td>\n",
              "      <td>486</td>\n",
              "      <td>Unf</td>\n",
              "      <td>0</td>\n",
              "      <td>434</td>\n",
              "      <td>920</td>\n",
              "      <td>GasA</td>\n",
              "      <td>...</td>\n",
              "      <td>Y</td>\n",
              "      <td>SBrkr</td>\n",
              "      <td>920</td>\n",
              "      <td>866</td>\n",
              "      <td>0</td>\n",
              "      <td>1786</td>\n",
              "      <td>1</td>\n",
              "      <td>0</td>\n",
              "      <td>2</td>\n",
              "      <td>1</td>\n",
              "      <td>3</td>\n",
              "      <td>1</td>\n",
              "      <td>Gd</td>\n",
              "      <td>6</td>\n",
              "      <td>Typ</td>\n",
              "      <td>1</td>\n",
              "      <td>TA</td>\n",
              "      <td>Attchd</td>\n",
              "      <td>2001.0</td>\n",
              "      <td>RFn</td>\n",
              "      <td>2</td>\n",
              "      <td>608</td>\n",
              "      <td>TA</td>\n",
              "      <td>TA</td>\n",
              "      <td>Y</td>\n",
              "      <td>0</td>\n",
              "      <td>42</td>\n",
              "      <td>0</td>\n",
              "      <td>0</td>\n",
              "      <td>0</td>\n",
              "      <td>0</td>\n",
              "      <td>NaN</td>\n",
              "      <td>NaN</td>\n",
              "      <td>NaN</td>\n",
              "      <td>0</td>\n",
              "      <td>9</td>\n",
              "      <td>2008</td>\n",
              "      <td>WD</td>\n",
              "      <td>Normal</td>\n",
              "      <td>223500</td>\n",
              "    </tr>\n",
              "    <tr>\n",
              "      <th>3</th>\n",
              "      <td>4</td>\n",
              "      <td>70</td>\n",
              "      <td>RL</td>\n",
              "      <td>60.0</td>\n",
              "      <td>9550</td>\n",
              "      <td>Pave</td>\n",
              "      <td>NaN</td>\n",
              "      <td>IR1</td>\n",
              "      <td>Lvl</td>\n",
              "      <td>AllPub</td>\n",
              "      <td>Corner</td>\n",
              "      <td>Gtl</td>\n",
              "      <td>Crawfor</td>\n",
              "      <td>Norm</td>\n",
              "      <td>Norm</td>\n",
              "      <td>1Fam</td>\n",
              "      <td>2Story</td>\n",
              "      <td>7</td>\n",
              "      <td>5</td>\n",
              "      <td>1915</td>\n",
              "      <td>1970</td>\n",
              "      <td>Gable</td>\n",
              "      <td>CompShg</td>\n",
              "      <td>Wd Sdng</td>\n",
              "      <td>Wd Shng</td>\n",
              "      <td>None</td>\n",
              "      <td>0.0</td>\n",
              "      <td>TA</td>\n",
              "      <td>TA</td>\n",
              "      <td>BrkTil</td>\n",
              "      <td>TA</td>\n",
              "      <td>Gd</td>\n",
              "      <td>No</td>\n",
              "      <td>ALQ</td>\n",
              "      <td>216</td>\n",
              "      <td>Unf</td>\n",
              "      <td>0</td>\n",
              "      <td>540</td>\n",
              "      <td>756</td>\n",
              "      <td>GasA</td>\n",
              "      <td>...</td>\n",
              "      <td>Y</td>\n",
              "      <td>SBrkr</td>\n",
              "      <td>961</td>\n",
              "      <td>756</td>\n",
              "      <td>0</td>\n",
              "      <td>1717</td>\n",
              "      <td>1</td>\n",
              "      <td>0</td>\n",
              "      <td>1</td>\n",
              "      <td>0</td>\n",
              "      <td>3</td>\n",
              "      <td>1</td>\n",
              "      <td>Gd</td>\n",
              "      <td>7</td>\n",
              "      <td>Typ</td>\n",
              "      <td>1</td>\n",
              "      <td>Gd</td>\n",
              "      <td>Detchd</td>\n",
              "      <td>1998.0</td>\n",
              "      <td>Unf</td>\n",
              "      <td>3</td>\n",
              "      <td>642</td>\n",
              "      <td>TA</td>\n",
              "      <td>TA</td>\n",
              "      <td>Y</td>\n",
              "      <td>0</td>\n",
              "      <td>35</td>\n",
              "      <td>272</td>\n",
              "      <td>0</td>\n",
              "      <td>0</td>\n",
              "      <td>0</td>\n",
              "      <td>NaN</td>\n",
              "      <td>NaN</td>\n",
              "      <td>NaN</td>\n",
              "      <td>0</td>\n",
              "      <td>2</td>\n",
              "      <td>2006</td>\n",
              "      <td>WD</td>\n",
              "      <td>Abnorml</td>\n",
              "      <td>140000</td>\n",
              "    </tr>\n",
              "    <tr>\n",
              "      <th>4</th>\n",
              "      <td>5</td>\n",
              "      <td>60</td>\n",
              "      <td>RL</td>\n",
              "      <td>84.0</td>\n",
              "      <td>14260</td>\n",
              "      <td>Pave</td>\n",
              "      <td>NaN</td>\n",
              "      <td>IR1</td>\n",
              "      <td>Lvl</td>\n",
              "      <td>AllPub</td>\n",
              "      <td>FR2</td>\n",
              "      <td>Gtl</td>\n",
              "      <td>NoRidge</td>\n",
              "      <td>Norm</td>\n",
              "      <td>Norm</td>\n",
              "      <td>1Fam</td>\n",
              "      <td>2Story</td>\n",
              "      <td>8</td>\n",
              "      <td>5</td>\n",
              "      <td>2000</td>\n",
              "      <td>2000</td>\n",
              "      <td>Gable</td>\n",
              "      <td>CompShg</td>\n",
              "      <td>VinylSd</td>\n",
              "      <td>VinylSd</td>\n",
              "      <td>BrkFace</td>\n",
              "      <td>350.0</td>\n",
              "      <td>Gd</td>\n",
              "      <td>TA</td>\n",
              "      <td>PConc</td>\n",
              "      <td>Gd</td>\n",
              "      <td>TA</td>\n",
              "      <td>Av</td>\n",
              "      <td>GLQ</td>\n",
              "      <td>655</td>\n",
              "      <td>Unf</td>\n",
              "      <td>0</td>\n",
              "      <td>490</td>\n",
              "      <td>1145</td>\n",
              "      <td>GasA</td>\n",
              "      <td>...</td>\n",
              "      <td>Y</td>\n",
              "      <td>SBrkr</td>\n",
              "      <td>1145</td>\n",
              "      <td>1053</td>\n",
              "      <td>0</td>\n",
              "      <td>2198</td>\n",
              "      <td>1</td>\n",
              "      <td>0</td>\n",
              "      <td>2</td>\n",
              "      <td>1</td>\n",
              "      <td>4</td>\n",
              "      <td>1</td>\n",
              "      <td>Gd</td>\n",
              "      <td>9</td>\n",
              "      <td>Typ</td>\n",
              "      <td>1</td>\n",
              "      <td>TA</td>\n",
              "      <td>Attchd</td>\n",
              "      <td>2000.0</td>\n",
              "      <td>RFn</td>\n",
              "      <td>3</td>\n",
              "      <td>836</td>\n",
              "      <td>TA</td>\n",
              "      <td>TA</td>\n",
              "      <td>Y</td>\n",
              "      <td>192</td>\n",
              "      <td>84</td>\n",
              "      <td>0</td>\n",
              "      <td>0</td>\n",
              "      <td>0</td>\n",
              "      <td>0</td>\n",
              "      <td>NaN</td>\n",
              "      <td>NaN</td>\n",
              "      <td>NaN</td>\n",
              "      <td>0</td>\n",
              "      <td>12</td>\n",
              "      <td>2008</td>\n",
              "      <td>WD</td>\n",
              "      <td>Normal</td>\n",
              "      <td>250000</td>\n",
              "    </tr>\n",
              "    <tr>\n",
              "      <th>...</th>\n",
              "      <td>...</td>\n",
              "      <td>...</td>\n",
              "      <td>...</td>\n",
              "      <td>...</td>\n",
              "      <td>...</td>\n",
              "      <td>...</td>\n",
              "      <td>...</td>\n",
              "      <td>...</td>\n",
              "      <td>...</td>\n",
              "      <td>...</td>\n",
              "      <td>...</td>\n",
              "      <td>...</td>\n",
              "      <td>...</td>\n",
              "      <td>...</td>\n",
              "      <td>...</td>\n",
              "      <td>...</td>\n",
              "      <td>...</td>\n",
              "      <td>...</td>\n",
              "      <td>...</td>\n",
              "      <td>...</td>\n",
              "      <td>...</td>\n",
              "      <td>...</td>\n",
              "      <td>...</td>\n",
              "      <td>...</td>\n",
              "      <td>...</td>\n",
              "      <td>...</td>\n",
              "      <td>...</td>\n",
              "      <td>...</td>\n",
              "      <td>...</td>\n",
              "      <td>...</td>\n",
              "      <td>...</td>\n",
              "      <td>...</td>\n",
              "      <td>...</td>\n",
              "      <td>...</td>\n",
              "      <td>...</td>\n",
              "      <td>...</td>\n",
              "      <td>...</td>\n",
              "      <td>...</td>\n",
              "      <td>...</td>\n",
              "      <td>...</td>\n",
              "      <td>...</td>\n",
              "      <td>...</td>\n",
              "      <td>...</td>\n",
              "      <td>...</td>\n",
              "      <td>...</td>\n",
              "      <td>...</td>\n",
              "      <td>...</td>\n",
              "      <td>...</td>\n",
              "      <td>...</td>\n",
              "      <td>...</td>\n",
              "      <td>...</td>\n",
              "      <td>...</td>\n",
              "      <td>...</td>\n",
              "      <td>...</td>\n",
              "      <td>...</td>\n",
              "      <td>...</td>\n",
              "      <td>...</td>\n",
              "      <td>...</td>\n",
              "      <td>...</td>\n",
              "      <td>...</td>\n",
              "      <td>...</td>\n",
              "      <td>...</td>\n",
              "      <td>...</td>\n",
              "      <td>...</td>\n",
              "      <td>...</td>\n",
              "      <td>...</td>\n",
              "      <td>...</td>\n",
              "      <td>...</td>\n",
              "      <td>...</td>\n",
              "      <td>...</td>\n",
              "      <td>...</td>\n",
              "      <td>...</td>\n",
              "      <td>...</td>\n",
              "      <td>...</td>\n",
              "      <td>...</td>\n",
              "      <td>...</td>\n",
              "      <td>...</td>\n",
              "      <td>...</td>\n",
              "      <td>...</td>\n",
              "      <td>...</td>\n",
              "      <td>...</td>\n",
              "    </tr>\n",
              "    <tr>\n",
              "      <th>1455</th>\n",
              "      <td>1456</td>\n",
              "      <td>60</td>\n",
              "      <td>RL</td>\n",
              "      <td>62.0</td>\n",
              "      <td>7917</td>\n",
              "      <td>Pave</td>\n",
              "      <td>NaN</td>\n",
              "      <td>Reg</td>\n",
              "      <td>Lvl</td>\n",
              "      <td>AllPub</td>\n",
              "      <td>Inside</td>\n",
              "      <td>Gtl</td>\n",
              "      <td>Gilbert</td>\n",
              "      <td>Norm</td>\n",
              "      <td>Norm</td>\n",
              "      <td>1Fam</td>\n",
              "      <td>2Story</td>\n",
              "      <td>6</td>\n",
              "      <td>5</td>\n",
              "      <td>1999</td>\n",
              "      <td>2000</td>\n",
              "      <td>Gable</td>\n",
              "      <td>CompShg</td>\n",
              "      <td>VinylSd</td>\n",
              "      <td>VinylSd</td>\n",
              "      <td>None</td>\n",
              "      <td>0.0</td>\n",
              "      <td>TA</td>\n",
              "      <td>TA</td>\n",
              "      <td>PConc</td>\n",
              "      <td>Gd</td>\n",
              "      <td>TA</td>\n",
              "      <td>No</td>\n",
              "      <td>Unf</td>\n",
              "      <td>0</td>\n",
              "      <td>Unf</td>\n",
              "      <td>0</td>\n",
              "      <td>953</td>\n",
              "      <td>953</td>\n",
              "      <td>GasA</td>\n",
              "      <td>...</td>\n",
              "      <td>Y</td>\n",
              "      <td>SBrkr</td>\n",
              "      <td>953</td>\n",
              "      <td>694</td>\n",
              "      <td>0</td>\n",
              "      <td>1647</td>\n",
              "      <td>0</td>\n",
              "      <td>0</td>\n",
              "      <td>2</td>\n",
              "      <td>1</td>\n",
              "      <td>3</td>\n",
              "      <td>1</td>\n",
              "      <td>TA</td>\n",
              "      <td>7</td>\n",
              "      <td>Typ</td>\n",
              "      <td>1</td>\n",
              "      <td>TA</td>\n",
              "      <td>Attchd</td>\n",
              "      <td>1999.0</td>\n",
              "      <td>RFn</td>\n",
              "      <td>2</td>\n",
              "      <td>460</td>\n",
              "      <td>TA</td>\n",
              "      <td>TA</td>\n",
              "      <td>Y</td>\n",
              "      <td>0</td>\n",
              "      <td>40</td>\n",
              "      <td>0</td>\n",
              "      <td>0</td>\n",
              "      <td>0</td>\n",
              "      <td>0</td>\n",
              "      <td>NaN</td>\n",
              "      <td>NaN</td>\n",
              "      <td>NaN</td>\n",
              "      <td>0</td>\n",
              "      <td>8</td>\n",
              "      <td>2007</td>\n",
              "      <td>WD</td>\n",
              "      <td>Normal</td>\n",
              "      <td>175000</td>\n",
              "    </tr>\n",
              "    <tr>\n",
              "      <th>1456</th>\n",
              "      <td>1457</td>\n",
              "      <td>20</td>\n",
              "      <td>RL</td>\n",
              "      <td>85.0</td>\n",
              "      <td>13175</td>\n",
              "      <td>Pave</td>\n",
              "      <td>NaN</td>\n",
              "      <td>Reg</td>\n",
              "      <td>Lvl</td>\n",
              "      <td>AllPub</td>\n",
              "      <td>Inside</td>\n",
              "      <td>Gtl</td>\n",
              "      <td>NWAmes</td>\n",
              "      <td>Norm</td>\n",
              "      <td>Norm</td>\n",
              "      <td>1Fam</td>\n",
              "      <td>1Story</td>\n",
              "      <td>6</td>\n",
              "      <td>6</td>\n",
              "      <td>1978</td>\n",
              "      <td>1988</td>\n",
              "      <td>Gable</td>\n",
              "      <td>CompShg</td>\n",
              "      <td>Plywood</td>\n",
              "      <td>Plywood</td>\n",
              "      <td>Stone</td>\n",
              "      <td>119.0</td>\n",
              "      <td>TA</td>\n",
              "      <td>TA</td>\n",
              "      <td>CBlock</td>\n",
              "      <td>Gd</td>\n",
              "      <td>TA</td>\n",
              "      <td>No</td>\n",
              "      <td>ALQ</td>\n",
              "      <td>790</td>\n",
              "      <td>Rec</td>\n",
              "      <td>163</td>\n",
              "      <td>589</td>\n",
              "      <td>1542</td>\n",
              "      <td>GasA</td>\n",
              "      <td>...</td>\n",
              "      <td>Y</td>\n",
              "      <td>SBrkr</td>\n",
              "      <td>2073</td>\n",
              "      <td>0</td>\n",
              "      <td>0</td>\n",
              "      <td>2073</td>\n",
              "      <td>1</td>\n",
              "      <td>0</td>\n",
              "      <td>2</td>\n",
              "      <td>0</td>\n",
              "      <td>3</td>\n",
              "      <td>1</td>\n",
              "      <td>TA</td>\n",
              "      <td>7</td>\n",
              "      <td>Min1</td>\n",
              "      <td>2</td>\n",
              "      <td>TA</td>\n",
              "      <td>Attchd</td>\n",
              "      <td>1978.0</td>\n",
              "      <td>Unf</td>\n",
              "      <td>2</td>\n",
              "      <td>500</td>\n",
              "      <td>TA</td>\n",
              "      <td>TA</td>\n",
              "      <td>Y</td>\n",
              "      <td>349</td>\n",
              "      <td>0</td>\n",
              "      <td>0</td>\n",
              "      <td>0</td>\n",
              "      <td>0</td>\n",
              "      <td>0</td>\n",
              "      <td>NaN</td>\n",
              "      <td>MnPrv</td>\n",
              "      <td>NaN</td>\n",
              "      <td>0</td>\n",
              "      <td>2</td>\n",
              "      <td>2010</td>\n",
              "      <td>WD</td>\n",
              "      <td>Normal</td>\n",
              "      <td>210000</td>\n",
              "    </tr>\n",
              "    <tr>\n",
              "      <th>1457</th>\n",
              "      <td>1458</td>\n",
              "      <td>70</td>\n",
              "      <td>RL</td>\n",
              "      <td>66.0</td>\n",
              "      <td>9042</td>\n",
              "      <td>Pave</td>\n",
              "      <td>NaN</td>\n",
              "      <td>Reg</td>\n",
              "      <td>Lvl</td>\n",
              "      <td>AllPub</td>\n",
              "      <td>Inside</td>\n",
              "      <td>Gtl</td>\n",
              "      <td>Crawfor</td>\n",
              "      <td>Norm</td>\n",
              "      <td>Norm</td>\n",
              "      <td>1Fam</td>\n",
              "      <td>2Story</td>\n",
              "      <td>7</td>\n",
              "      <td>9</td>\n",
              "      <td>1941</td>\n",
              "      <td>2006</td>\n",
              "      <td>Gable</td>\n",
              "      <td>CompShg</td>\n",
              "      <td>CemntBd</td>\n",
              "      <td>CmentBd</td>\n",
              "      <td>None</td>\n",
              "      <td>0.0</td>\n",
              "      <td>Ex</td>\n",
              "      <td>Gd</td>\n",
              "      <td>Stone</td>\n",
              "      <td>TA</td>\n",
              "      <td>Gd</td>\n",
              "      <td>No</td>\n",
              "      <td>GLQ</td>\n",
              "      <td>275</td>\n",
              "      <td>Unf</td>\n",
              "      <td>0</td>\n",
              "      <td>877</td>\n",
              "      <td>1152</td>\n",
              "      <td>GasA</td>\n",
              "      <td>...</td>\n",
              "      <td>Y</td>\n",
              "      <td>SBrkr</td>\n",
              "      <td>1188</td>\n",
              "      <td>1152</td>\n",
              "      <td>0</td>\n",
              "      <td>2340</td>\n",
              "      <td>0</td>\n",
              "      <td>0</td>\n",
              "      <td>2</td>\n",
              "      <td>0</td>\n",
              "      <td>4</td>\n",
              "      <td>1</td>\n",
              "      <td>Gd</td>\n",
              "      <td>9</td>\n",
              "      <td>Typ</td>\n",
              "      <td>2</td>\n",
              "      <td>Gd</td>\n",
              "      <td>Attchd</td>\n",
              "      <td>1941.0</td>\n",
              "      <td>RFn</td>\n",
              "      <td>1</td>\n",
              "      <td>252</td>\n",
              "      <td>TA</td>\n",
              "      <td>TA</td>\n",
              "      <td>Y</td>\n",
              "      <td>0</td>\n",
              "      <td>60</td>\n",
              "      <td>0</td>\n",
              "      <td>0</td>\n",
              "      <td>0</td>\n",
              "      <td>0</td>\n",
              "      <td>NaN</td>\n",
              "      <td>GdPrv</td>\n",
              "      <td>Shed</td>\n",
              "      <td>2500</td>\n",
              "      <td>5</td>\n",
              "      <td>2010</td>\n",
              "      <td>WD</td>\n",
              "      <td>Normal</td>\n",
              "      <td>266500</td>\n",
              "    </tr>\n",
              "    <tr>\n",
              "      <th>1458</th>\n",
              "      <td>1459</td>\n",
              "      <td>20</td>\n",
              "      <td>RL</td>\n",
              "      <td>68.0</td>\n",
              "      <td>9717</td>\n",
              "      <td>Pave</td>\n",
              "      <td>NaN</td>\n",
              "      <td>Reg</td>\n",
              "      <td>Lvl</td>\n",
              "      <td>AllPub</td>\n",
              "      <td>Inside</td>\n",
              "      <td>Gtl</td>\n",
              "      <td>NAmes</td>\n",
              "      <td>Norm</td>\n",
              "      <td>Norm</td>\n",
              "      <td>1Fam</td>\n",
              "      <td>1Story</td>\n",
              "      <td>5</td>\n",
              "      <td>6</td>\n",
              "      <td>1950</td>\n",
              "      <td>1996</td>\n",
              "      <td>Hip</td>\n",
              "      <td>CompShg</td>\n",
              "      <td>MetalSd</td>\n",
              "      <td>MetalSd</td>\n",
              "      <td>None</td>\n",
              "      <td>0.0</td>\n",
              "      <td>TA</td>\n",
              "      <td>TA</td>\n",
              "      <td>CBlock</td>\n",
              "      <td>TA</td>\n",
              "      <td>TA</td>\n",
              "      <td>Mn</td>\n",
              "      <td>GLQ</td>\n",
              "      <td>49</td>\n",
              "      <td>Rec</td>\n",
              "      <td>1029</td>\n",
              "      <td>0</td>\n",
              "      <td>1078</td>\n",
              "      <td>GasA</td>\n",
              "      <td>...</td>\n",
              "      <td>Y</td>\n",
              "      <td>FuseA</td>\n",
              "      <td>1078</td>\n",
              "      <td>0</td>\n",
              "      <td>0</td>\n",
              "      <td>1078</td>\n",
              "      <td>1</td>\n",
              "      <td>0</td>\n",
              "      <td>1</td>\n",
              "      <td>0</td>\n",
              "      <td>2</td>\n",
              "      <td>1</td>\n",
              "      <td>Gd</td>\n",
              "      <td>5</td>\n",
              "      <td>Typ</td>\n",
              "      <td>0</td>\n",
              "      <td>NaN</td>\n",
              "      <td>Attchd</td>\n",
              "      <td>1950.0</td>\n",
              "      <td>Unf</td>\n",
              "      <td>1</td>\n",
              "      <td>240</td>\n",
              "      <td>TA</td>\n",
              "      <td>TA</td>\n",
              "      <td>Y</td>\n",
              "      <td>366</td>\n",
              "      <td>0</td>\n",
              "      <td>112</td>\n",
              "      <td>0</td>\n",
              "      <td>0</td>\n",
              "      <td>0</td>\n",
              "      <td>NaN</td>\n",
              "      <td>NaN</td>\n",
              "      <td>NaN</td>\n",
              "      <td>0</td>\n",
              "      <td>4</td>\n",
              "      <td>2010</td>\n",
              "      <td>WD</td>\n",
              "      <td>Normal</td>\n",
              "      <td>142125</td>\n",
              "    </tr>\n",
              "    <tr>\n",
              "      <th>1459</th>\n",
              "      <td>1460</td>\n",
              "      <td>20</td>\n",
              "      <td>RL</td>\n",
              "      <td>75.0</td>\n",
              "      <td>9937</td>\n",
              "      <td>Pave</td>\n",
              "      <td>NaN</td>\n",
              "      <td>Reg</td>\n",
              "      <td>Lvl</td>\n",
              "      <td>AllPub</td>\n",
              "      <td>Inside</td>\n",
              "      <td>Gtl</td>\n",
              "      <td>Edwards</td>\n",
              "      <td>Norm</td>\n",
              "      <td>Norm</td>\n",
              "      <td>1Fam</td>\n",
              "      <td>1Story</td>\n",
              "      <td>5</td>\n",
              "      <td>6</td>\n",
              "      <td>1965</td>\n",
              "      <td>1965</td>\n",
              "      <td>Gable</td>\n",
              "      <td>CompShg</td>\n",
              "      <td>HdBoard</td>\n",
              "      <td>HdBoard</td>\n",
              "      <td>None</td>\n",
              "      <td>0.0</td>\n",
              "      <td>Gd</td>\n",
              "      <td>TA</td>\n",
              "      <td>CBlock</td>\n",
              "      <td>TA</td>\n",
              "      <td>TA</td>\n",
              "      <td>No</td>\n",
              "      <td>BLQ</td>\n",
              "      <td>830</td>\n",
              "      <td>LwQ</td>\n",
              "      <td>290</td>\n",
              "      <td>136</td>\n",
              "      <td>1256</td>\n",
              "      <td>GasA</td>\n",
              "      <td>...</td>\n",
              "      <td>Y</td>\n",
              "      <td>SBrkr</td>\n",
              "      <td>1256</td>\n",
              "      <td>0</td>\n",
              "      <td>0</td>\n",
              "      <td>1256</td>\n",
              "      <td>1</td>\n",
              "      <td>0</td>\n",
              "      <td>1</td>\n",
              "      <td>1</td>\n",
              "      <td>3</td>\n",
              "      <td>1</td>\n",
              "      <td>TA</td>\n",
              "      <td>6</td>\n",
              "      <td>Typ</td>\n",
              "      <td>0</td>\n",
              "      <td>NaN</td>\n",
              "      <td>Attchd</td>\n",
              "      <td>1965.0</td>\n",
              "      <td>Fin</td>\n",
              "      <td>1</td>\n",
              "      <td>276</td>\n",
              "      <td>TA</td>\n",
              "      <td>TA</td>\n",
              "      <td>Y</td>\n",
              "      <td>736</td>\n",
              "      <td>68</td>\n",
              "      <td>0</td>\n",
              "      <td>0</td>\n",
              "      <td>0</td>\n",
              "      <td>0</td>\n",
              "      <td>NaN</td>\n",
              "      <td>NaN</td>\n",
              "      <td>NaN</td>\n",
              "      <td>0</td>\n",
              "      <td>6</td>\n",
              "      <td>2008</td>\n",
              "      <td>WD</td>\n",
              "      <td>Normal</td>\n",
              "      <td>147500</td>\n",
              "    </tr>\n",
              "  </tbody>\n",
              "</table>\n",
              "<p>1460 rows × 81 columns</p>\n",
              "</div>"
            ],
            "text/plain": [
              "        Id  MSSubClass MSZoning  ...  SaleType  SaleCondition SalePrice\n",
              "0        1          60       RL  ...        WD         Normal    208500\n",
              "1        2          20       RL  ...        WD         Normal    181500\n",
              "2        3          60       RL  ...        WD         Normal    223500\n",
              "3        4          70       RL  ...        WD        Abnorml    140000\n",
              "4        5          60       RL  ...        WD         Normal    250000\n",
              "...    ...         ...      ...  ...       ...            ...       ...\n",
              "1455  1456          60       RL  ...        WD         Normal    175000\n",
              "1456  1457          20       RL  ...        WD         Normal    210000\n",
              "1457  1458          70       RL  ...        WD         Normal    266500\n",
              "1458  1459          20       RL  ...        WD         Normal    142125\n",
              "1459  1460          20       RL  ...        WD         Normal    147500\n",
              "\n",
              "[1460 rows x 81 columns]"
            ]
          },
          "metadata": {
            "tags": []
          },
          "execution_count": 1
        }
      ]
    },
    {
      "cell_type": "markdown",
      "metadata": {
        "id": "X4JT6KPCgeMY",
        "colab_type": "text"
      },
      "source": [
        "Our first job is to clean the outlier mentioned in the documentation for the Ames dataset. We will follow their suggestion and remove all houses over 4000 square feet of above ground living area."
      ]
    },
    {
      "cell_type": "code",
      "metadata": {
        "id": "NLRpUXGSgeMa",
        "colab_type": "code",
        "outputId": "3b2a9a8e-6729-432e-be2b-5b7d4bbd549c",
        "colab": {
          "base_uri": "https://localhost:8080/",
          "height": 35
        }
      },
      "source": [
        "z = ames['GrLivArea']+ames['BsmtUnfSF']<4000\n",
        "print(\"Number of records removed:\",len(ames) - sum(z))\n",
        "data = ames[z]"
      ],
      "execution_count": 0,
      "outputs": [
        {
          "output_type": "stream",
          "text": [
            "Number of records removed: 24\n"
          ],
          "name": "stdout"
        }
      ]
    },
    {
      "cell_type": "code",
      "metadata": {
        "id": "WcHpViKogeMf",
        "colab_type": "code",
        "colab": {}
      },
      "source": [
        ""
      ],
      "execution_count": 0,
      "outputs": []
    },
    {
      "cell_type": "markdown",
      "metadata": {
        "id": "js0E9uvVgeMj",
        "colab_type": "text"
      },
      "source": [
        "Indeed, we can check quickly and see that this removes our weird outliers from before."
      ]
    },
    {
      "cell_type": "code",
      "metadata": {
        "id": "HkKVEHssgeMk",
        "colab_type": "code",
        "outputId": "42560d20-86c5-42f1-8507-1103c723166f",
        "colab": {
          "base_uri": "https://localhost:8080/",
          "height": 299
        }
      },
      "source": [
        "f, axes = plt.subplots(1,2)\n",
        "f.set_size_inches(10,4)\n",
        "\n",
        "axes[0].plot(ames['GrLivArea'],ames['SalePrice'],'.')\n",
        "axes[0].plot(data['GrLivArea'],data['SalePrice'],'.')\n",
        "axes[1].plot(data['GrLivArea'],data['SalePrice'],'.',color=\"C1\")\n",
        "\n",
        "axes[0].set_title(\"Excised Data\")\n",
        "axes[1].set_title(\"Cleaned Data\")"
      ],
      "execution_count": 29,
      "outputs": [
        {
          "output_type": "execute_result",
          "data": {
            "text/plain": [
              "Text(0.5, 1.0, 'Cleaned Data')"
            ]
          },
          "metadata": {
            "tags": []
          },
          "execution_count": 29
        },
        {
          "output_type": "display_data",
          "data": {
            "image/png": "[encoded data removed]",
            "text/plain": [
              "<Figure size 720x288 with 2 Axes>"
            ]
          },
          "metadata": {
            "tags": []
          }
        }
      ]
    },
    {
      "cell_type": "markdown",
      "metadata": {
        "id": "tK_x5vFqgeMq",
        "colab_type": "text"
      },
      "source": [
        "#### Removing catagorical varaibles\n",
        "\n",
        "The next step is to cut out all of the catagorical varaibles. There are ways to use regression to fit cataogrical variables but we will not be focusing on those methods in this lab. As before we will do this using the `DataFrame.include` function and only including the numerical data types `int64` and `float64`."
      ]
    },
    {
      "cell_type": "code",
      "metadata": {
        "id": "jbtCcGvVgeMr",
        "colab_type": "code",
        "outputId": "60e59884-0411-44dd-d0c2-752d99a68abf",
        "colab": {
          "base_uri": "https://localhost:8080/",
          "height": 222
        }
      },
      "source": [
        "data = data.select_dtypes(include=['int64','float64'])\n",
        "display(data.head(5))"
      ],
      "execution_count": 0,
      "outputs": [
        {
          "output_type": "display_data",
          "data": {
            "text/html": [
              "<div>\n",
              "<style scoped>\n",
              "    .dataframe tbody tr th:only-of-type {\n",
              "        vertical-align: middle;\n",
              "    }\n",
              "\n",
              "    .dataframe tbody tr th {\n",
              "        vertical-align: top;\n",
              "    }\n",
              "\n",
              "    .dataframe thead th {\n",
              "        text-align: right;\n",
              "    }\n",
              "</style>\n",
              "<table border=\"1\" class=\"dataframe\">\n",
              "  <thead>\n",
              "    <tr style=\"text-align: right;\">\n",
              "      <th></th>\n",
              "      <th>Id</th>\n",
              "      <th>MSSubClass</th>\n",
              "      <th>LotFrontage</th>\n",
              "      <th>LotArea</th>\n",
              "      <th>OverallQual</th>\n",
              "      <th>OverallCond</th>\n",
              "      <th>YearBuilt</th>\n",
              "      <th>YearRemodAdd</th>\n",
              "      <th>MasVnrArea</th>\n",
              "      <th>BsmtFinSF1</th>\n",
              "      <th>BsmtFinSF2</th>\n",
              "      <th>BsmtUnfSF</th>\n",
              "      <th>TotalBsmtSF</th>\n",
              "      <th>1stFlrSF</th>\n",
              "      <th>2ndFlrSF</th>\n",
              "      <th>LowQualFinSF</th>\n",
              "      <th>GrLivArea</th>\n",
              "      <th>BsmtFullBath</th>\n",
              "      <th>BsmtHalfBath</th>\n",
              "      <th>FullBath</th>\n",
              "      <th>HalfBath</th>\n",
              "      <th>BedroomAbvGr</th>\n",
              "      <th>KitchenAbvGr</th>\n",
              "      <th>TotRmsAbvGrd</th>\n",
              "      <th>Fireplaces</th>\n",
              "      <th>GarageYrBlt</th>\n",
              "      <th>GarageCars</th>\n",
              "      <th>GarageArea</th>\n",
              "      <th>WoodDeckSF</th>\n",
              "      <th>OpenPorchSF</th>\n",
              "      <th>EnclosedPorch</th>\n",
              "      <th>3SsnPorch</th>\n",
              "      <th>ScreenPorch</th>\n",
              "      <th>PoolArea</th>\n",
              "      <th>MiscVal</th>\n",
              "      <th>MoSold</th>\n",
              "      <th>YrSold</th>\n",
              "      <th>SalePrice</th>\n",
              "    </tr>\n",
              "  </thead>\n",
              "  <tbody>\n",
              "    <tr>\n",
              "      <th>0</th>\n",
              "      <td>1</td>\n",
              "      <td>60</td>\n",
              "      <td>65.0</td>\n",
              "      <td>8450</td>\n",
              "      <td>7</td>\n",
              "      <td>5</td>\n",
              "      <td>2003</td>\n",
              "      <td>2003</td>\n",
              "      <td>196.0</td>\n",
              "      <td>706</td>\n",
              "      <td>0</td>\n",
              "      <td>150</td>\n",
              "      <td>856</td>\n",
              "      <td>856</td>\n",
              "      <td>854</td>\n",
              "      <td>0</td>\n",
              "      <td>1710</td>\n",
              "      <td>1</td>\n",
              "      <td>0</td>\n",
              "      <td>2</td>\n",
              "      <td>1</td>\n",
              "      <td>3</td>\n",
              "      <td>1</td>\n",
              "      <td>8</td>\n",
              "      <td>0</td>\n",
              "      <td>2003.0</td>\n",
              "      <td>2</td>\n",
              "      <td>548</td>\n",
              "      <td>0</td>\n",
              "      <td>61</td>\n",
              "      <td>0</td>\n",
              "      <td>0</td>\n",
              "      <td>0</td>\n",
              "      <td>0</td>\n",
              "      <td>0</td>\n",
              "      <td>2</td>\n",
              "      <td>2008</td>\n",
              "      <td>208500</td>\n",
              "    </tr>\n",
              "    <tr>\n",
              "      <th>1</th>\n",
              "      <td>2</td>\n",
              "      <td>20</td>\n",
              "      <td>80.0</td>\n",
              "      <td>9600</td>\n",
              "      <td>6</td>\n",
              "      <td>8</td>\n",
              "      <td>1976</td>\n",
              "      <td>1976</td>\n",
              "      <td>0.0</td>\n",
              "      <td>978</td>\n",
              "      <td>0</td>\n",
              "      <td>284</td>\n",
              "      <td>1262</td>\n",
              "      <td>1262</td>\n",
              "      <td>0</td>\n",
              "      <td>0</td>\n",
              "      <td>1262</td>\n",
              "      <td>0</td>\n",
              "      <td>1</td>\n",
              "      <td>2</td>\n",
              "      <td>0</td>\n",
              "      <td>3</td>\n",
              "      <td>1</td>\n",
              "      <td>6</td>\n",
              "      <td>1</td>\n",
              "      <td>1976.0</td>\n",
              "      <td>2</td>\n",
              "      <td>460</td>\n",
              "      <td>298</td>\n",
              "      <td>0</td>\n",
              "      <td>0</td>\n",
              "      <td>0</td>\n",
              "      <td>0</td>\n",
              "      <td>0</td>\n",
              "      <td>0</td>\n",
              "      <td>5</td>\n",
              "      <td>2007</td>\n",
              "      <td>181500</td>\n",
              "    </tr>\n",
              "    <tr>\n",
              "      <th>2</th>\n",
              "      <td>3</td>\n",
              "      <td>60</td>\n",
              "      <td>68.0</td>\n",
              "      <td>11250</td>\n",
              "      <td>7</td>\n",
              "      <td>5</td>\n",
              "      <td>2001</td>\n",
              "      <td>2002</td>\n",
              "      <td>162.0</td>\n",
              "      <td>486</td>\n",
              "      <td>0</td>\n",
              "      <td>434</td>\n",
              "      <td>920</td>\n",
              "      <td>920</td>\n",
              "      <td>866</td>\n",
              "      <td>0</td>\n",
              "      <td>1786</td>\n",
              "      <td>1</td>\n",
              "      <td>0</td>\n",
              "      <td>2</td>\n",
              "      <td>1</td>\n",
              "      <td>3</td>\n",
              "      <td>1</td>\n",
              "      <td>6</td>\n",
              "      <td>1</td>\n",
              "      <td>2001.0</td>\n",
              "      <td>2</td>\n",
              "      <td>608</td>\n",
              "      <td>0</td>\n",
              "      <td>42</td>\n",
              "      <td>0</td>\n",
              "      <td>0</td>\n",
              "      <td>0</td>\n",
              "      <td>0</td>\n",
              "      <td>0</td>\n",
              "      <td>9</td>\n",
              "      <td>2008</td>\n",
              "      <td>223500</td>\n",
              "    </tr>\n",
              "    <tr>\n",
              "      <th>3</th>\n",
              "      <td>4</td>\n",
              "      <td>70</td>\n",
              "      <td>60.0</td>\n",
              "      <td>9550</td>\n",
              "      <td>7</td>\n",
              "      <td>5</td>\n",
              "      <td>1915</td>\n",
              "      <td>1970</td>\n",
              "      <td>0.0</td>\n",
              "      <td>216</td>\n",
              "      <td>0</td>\n",
              "      <td>540</td>\n",
              "      <td>756</td>\n",
              "      <td>961</td>\n",
              "      <td>756</td>\n",
              "      <td>0</td>\n",
              "      <td>1717</td>\n",
              "      <td>1</td>\n",
              "      <td>0</td>\n",
              "      <td>1</td>\n",
              "      <td>0</td>\n",
              "      <td>3</td>\n",
              "      <td>1</td>\n",
              "      <td>7</td>\n",
              "      <td>1</td>\n",
              "      <td>1998.0</td>\n",
              "      <td>3</td>\n",
              "      <td>642</td>\n",
              "      <td>0</td>\n",
              "      <td>35</td>\n",
              "      <td>272</td>\n",
              "      <td>0</td>\n",
              "      <td>0</td>\n",
              "      <td>0</td>\n",
              "      <td>0</td>\n",
              "      <td>2</td>\n",
              "      <td>2006</td>\n",
              "      <td>140000</td>\n",
              "    </tr>\n",
              "    <tr>\n",
              "      <th>4</th>\n",
              "      <td>5</td>\n",
              "      <td>60</td>\n",
              "      <td>84.0</td>\n",
              "      <td>14260</td>\n",
              "      <td>8</td>\n",
              "      <td>5</td>\n",
              "      <td>2000</td>\n",
              "      <td>2000</td>\n",
              "      <td>350.0</td>\n",
              "      <td>655</td>\n",
              "      <td>0</td>\n",
              "      <td>490</td>\n",
              "      <td>1145</td>\n",
              "      <td>1145</td>\n",
              "      <td>1053</td>\n",
              "      <td>0</td>\n",
              "      <td>2198</td>\n",
              "      <td>1</td>\n",
              "      <td>0</td>\n",
              "      <td>2</td>\n",
              "      <td>1</td>\n",
              "      <td>4</td>\n",
              "      <td>1</td>\n",
              "      <td>9</td>\n",
              "      <td>1</td>\n",
              "      <td>2000.0</td>\n",
              "      <td>3</td>\n",
              "      <td>836</td>\n",
              "      <td>192</td>\n",
              "      <td>84</td>\n",
              "      <td>0</td>\n",
              "      <td>0</td>\n",
              "      <td>0</td>\n",
              "      <td>0</td>\n",
              "      <td>0</td>\n",
              "      <td>12</td>\n",
              "      <td>2008</td>\n",
              "      <td>250000</td>\n",
              "    </tr>\n",
              "  </tbody>\n",
              "</table>\n",
              "</div>"
            ],
            "text/plain": [
              "   Id  MSSubClass  LotFrontage  LotArea  ...  MiscVal  MoSold  YrSold  SalePrice\n",
              "0   1          60         65.0     8450  ...        0       2    2008     208500\n",
              "1   2          20         80.0     9600  ...        0       5    2007     181500\n",
              "2   3          60         68.0    11250  ...        0       9    2008     223500\n",
              "3   4          70         60.0     9550  ...        0       2    2006     140000\n",
              "4   5          60         84.0    14260  ...        0      12    2008     250000\n",
              "\n",
              "[5 rows x 38 columns]"
            ]
          },
          "metadata": {
            "tags": []
          }
        }
      ]
    },
    {
      "cell_type": "code",
      "metadata": {
        "id": "M1sNPdhngeMv",
        "colab_type": "code",
        "colab": {}
      },
      "source": [
        ""
      ],
      "execution_count": 0,
      "outputs": []
    },
    {
      "cell_type": "markdown",
      "metadata": {
        "id": "j-ZHGIY3geMx",
        "colab_type": "text"
      },
      "source": [
        "It is worth going through the documentation and checking if any of the variables that are represented numerically in the dataframe actually represent categorical variables (like error codes, phone number prefixes, etc).  In fact, the documentation tells us that __MSSubClass__ is a categorical variable, with each number representing a zoning code. We should drop it using `DataFrame.drop()`.\n",
        "\n",
        "* `DataFrame.drop(columns=[name1,name2,...])` drops a list of column by name. It then returns the new dataframe which must be saved into a variable. `drop` can also be used to drop rows. \n",
        "\n",
        "In addition, __ID__ is just a label and could be dropped. It should be noted that the ML school of thought would say we should consider _not_ dropping these indices. The idea is very much \"throw in all the data, maybe there's some correlation there we don't see.\" We will drop the data for this lab just for practice.  "
      ]
    },
    {
      "cell_type": "code",
      "metadata": {
        "id": "LrduS62ageMy",
        "colab_type": "code",
        "outputId": "210f66bd-f45d-4865-d8f8-b34d5ebf0fb6",
        "colab": {
          "base_uri": "https://localhost:8080/",
          "height": 222
        }
      },
      "source": [
        "data = data.drop(columns='MSSubClass')\n",
        "data.head(5)"
      ],
      "execution_count": 0,
      "outputs": [
        {
          "output_type": "execute_result",
          "data": {
            "text/html": [
              "<div>\n",
              "<style scoped>\n",
              "    .dataframe tbody tr th:only-of-type {\n",
              "        vertical-align: middle;\n",
              "    }\n",
              "\n",
              "    .dataframe tbody tr th {\n",
              "        vertical-align: top;\n",
              "    }\n",
              "\n",
              "    .dataframe thead th {\n",
              "        text-align: right;\n",
              "    }\n",
              "</style>\n",
              "<table border=\"1\" class=\"dataframe\">\n",
              "  <thead>\n",
              "    <tr style=\"text-align: right;\">\n",
              "      <th></th>\n",
              "      <th>Id</th>\n",
              "      <th>LotFrontage</th>\n",
              "      <th>LotArea</th>\n",
              "      <th>OverallQual</th>\n",
              "      <th>OverallCond</th>\n",
              "      <th>YearBuilt</th>\n",
              "      <th>YearRemodAdd</th>\n",
              "      <th>MasVnrArea</th>\n",
              "      <th>BsmtFinSF1</th>\n",
              "      <th>BsmtFinSF2</th>\n",
              "      <th>BsmtUnfSF</th>\n",
              "      <th>TotalBsmtSF</th>\n",
              "      <th>1stFlrSF</th>\n",
              "      <th>2ndFlrSF</th>\n",
              "      <th>LowQualFinSF</th>\n",
              "      <th>GrLivArea</th>\n",
              "      <th>BsmtFullBath</th>\n",
              "      <th>BsmtHalfBath</th>\n",
              "      <th>FullBath</th>\n",
              "      <th>HalfBath</th>\n",
              "      <th>BedroomAbvGr</th>\n",
              "      <th>KitchenAbvGr</th>\n",
              "      <th>TotRmsAbvGrd</th>\n",
              "      <th>Fireplaces</th>\n",
              "      <th>GarageYrBlt</th>\n",
              "      <th>GarageCars</th>\n",
              "      <th>GarageArea</th>\n",
              "      <th>WoodDeckSF</th>\n",
              "      <th>OpenPorchSF</th>\n",
              "      <th>EnclosedPorch</th>\n",
              "      <th>3SsnPorch</th>\n",
              "      <th>ScreenPorch</th>\n",
              "      <th>PoolArea</th>\n",
              "      <th>MiscVal</th>\n",
              "      <th>MoSold</th>\n",
              "      <th>YrSold</th>\n",
              "      <th>SalePrice</th>\n",
              "    </tr>\n",
              "  </thead>\n",
              "  <tbody>\n",
              "    <tr>\n",
              "      <th>0</th>\n",
              "      <td>1</td>\n",
              "      <td>65.0</td>\n",
              "      <td>8450</td>\n",
              "      <td>7</td>\n",
              "      <td>5</td>\n",
              "      <td>2003</td>\n",
              "      <td>2003</td>\n",
              "      <td>196.0</td>\n",
              "      <td>706</td>\n",
              "      <td>0</td>\n",
              "      <td>150</td>\n",
              "      <td>856</td>\n",
              "      <td>856</td>\n",
              "      <td>854</td>\n",
              "      <td>0</td>\n",
              "      <td>1710</td>\n",
              "      <td>1</td>\n",
              "      <td>0</td>\n",
              "      <td>2</td>\n",
              "      <td>1</td>\n",
              "      <td>3</td>\n",
              "      <td>1</td>\n",
              "      <td>8</td>\n",
              "      <td>0</td>\n",
              "      <td>2003.0</td>\n",
              "      <td>2</td>\n",
              "      <td>548</td>\n",
              "      <td>0</td>\n",
              "      <td>61</td>\n",
              "      <td>0</td>\n",
              "      <td>0</td>\n",
              "      <td>0</td>\n",
              "      <td>0</td>\n",
              "      <td>0</td>\n",
              "      <td>2</td>\n",
              "      <td>2008</td>\n",
              "      <td>208500</td>\n",
              "    </tr>\n",
              "    <tr>\n",
              "      <th>1</th>\n",
              "      <td>2</td>\n",
              "      <td>80.0</td>\n",
              "      <td>9600</td>\n",
              "      <td>6</td>\n",
              "      <td>8</td>\n",
              "      <td>1976</td>\n",
              "      <td>1976</td>\n",
              "      <td>0.0</td>\n",
              "      <td>978</td>\n",
              "      <td>0</td>\n",
              "      <td>284</td>\n",
              "      <td>1262</td>\n",
              "      <td>1262</td>\n",
              "      <td>0</td>\n",
              "      <td>0</td>\n",
              "      <td>1262</td>\n",
              "      <td>0</td>\n",
              "      <td>1</td>\n",
              "      <td>2</td>\n",
              "      <td>0</td>\n",
              "      <td>3</td>\n",
              "      <td>1</td>\n",
              "      <td>6</td>\n",
              "      <td>1</td>\n",
              "      <td>1976.0</td>\n",
              "      <td>2</td>\n",
              "      <td>460</td>\n",
              "      <td>298</td>\n",
              "      <td>0</td>\n",
              "      <td>0</td>\n",
              "      <td>0</td>\n",
              "      <td>0</td>\n",
              "      <td>0</td>\n",
              "      <td>0</td>\n",
              "      <td>5</td>\n",
              "      <td>2007</td>\n",
              "      <td>181500</td>\n",
              "    </tr>\n",
              "    <tr>\n",
              "      <th>2</th>\n",
              "      <td>3</td>\n",
              "      <td>68.0</td>\n",
              "      <td>11250</td>\n",
              "      <td>7</td>\n",
              "      <td>5</td>\n",
              "      <td>2001</td>\n",
              "      <td>2002</td>\n",
              "      <td>162.0</td>\n",
              "      <td>486</td>\n",
              "      <td>0</td>\n",
              "      <td>434</td>\n",
              "      <td>920</td>\n",
              "      <td>920</td>\n",
              "      <td>866</td>\n",
              "      <td>0</td>\n",
              "      <td>1786</td>\n",
              "      <td>1</td>\n",
              "      <td>0</td>\n",
              "      <td>2</td>\n",
              "      <td>1</td>\n",
              "      <td>3</td>\n",
              "      <td>1</td>\n",
              "      <td>6</td>\n",
              "      <td>1</td>\n",
              "      <td>2001.0</td>\n",
              "      <td>2</td>\n",
              "      <td>608</td>\n",
              "      <td>0</td>\n",
              "      <td>42</td>\n",
              "      <td>0</td>\n",
              "      <td>0</td>\n",
              "      <td>0</td>\n",
              "      <td>0</td>\n",
              "      <td>0</td>\n",
              "      <td>9</td>\n",
              "      <td>2008</td>\n",
              "      <td>223500</td>\n",
              "    </tr>\n",
              "    <tr>\n",
              "      <th>3</th>\n",
              "      <td>4</td>\n",
              "      <td>60.0</td>\n",
              "      <td>9550</td>\n",
              "      <td>7</td>\n",
              "      <td>5</td>\n",
              "      <td>1915</td>\n",
              "      <td>1970</td>\n",
              "      <td>0.0</td>\n",
              "      <td>216</td>\n",
              "      <td>0</td>\n",
              "      <td>540</td>\n",
              "      <td>756</td>\n",
              "      <td>961</td>\n",
              "      <td>756</td>\n",
              "      <td>0</td>\n",
              "      <td>1717</td>\n",
              "      <td>1</td>\n",
              "      <td>0</td>\n",
              "      <td>1</td>\n",
              "      <td>0</td>\n",
              "      <td>3</td>\n",
              "      <td>1</td>\n",
              "      <td>7</td>\n",
              "      <td>1</td>\n",
              "      <td>1998.0</td>\n",
              "      <td>3</td>\n",
              "      <td>642</td>\n",
              "      <td>0</td>\n",
              "      <td>35</td>\n",
              "      <td>272</td>\n",
              "      <td>0</td>\n",
              "      <td>0</td>\n",
              "      <td>0</td>\n",
              "      <td>0</td>\n",
              "      <td>2</td>\n",
              "      <td>2006</td>\n",
              "      <td>140000</td>\n",
              "    </tr>\n",
              "    <tr>\n",
              "      <th>4</th>\n",
              "      <td>5</td>\n",
              "      <td>84.0</td>\n",
              "      <td>14260</td>\n",
              "      <td>8</td>\n",
              "      <td>5</td>\n",
              "      <td>2000</td>\n",
              "      <td>2000</td>\n",
              "      <td>350.0</td>\n",
              "      <td>655</td>\n",
              "      <td>0</td>\n",
              "      <td>490</td>\n",
              "      <td>1145</td>\n",
              "      <td>1145</td>\n",
              "      <td>1053</td>\n",
              "      <td>0</td>\n",
              "      <td>2198</td>\n",
              "      <td>1</td>\n",
              "      <td>0</td>\n",
              "      <td>2</td>\n",
              "      <td>1</td>\n",
              "      <td>4</td>\n",
              "      <td>1</td>\n",
              "      <td>9</td>\n",
              "      <td>1</td>\n",
              "      <td>2000.0</td>\n",
              "      <td>3</td>\n",
              "      <td>836</td>\n",
              "      <td>192</td>\n",
              "      <td>84</td>\n",
              "      <td>0</td>\n",
              "      <td>0</td>\n",
              "      <td>0</td>\n",
              "      <td>0</td>\n",
              "      <td>0</td>\n",
              "      <td>12</td>\n",
              "      <td>2008</td>\n",
              "      <td>250000</td>\n",
              "    </tr>\n",
              "  </tbody>\n",
              "</table>\n",
              "</div>"
            ],
            "text/plain": [
              "   Id  LotFrontage  LotArea  OverallQual  ...  MiscVal  MoSold  YrSold  SalePrice\n",
              "0   1         65.0     8450            7  ...        0       2    2008     208500\n",
              "1   2         80.0     9600            6  ...        0       5    2007     181500\n",
              "2   3         68.0    11250            7  ...        0       9    2008     223500\n",
              "3   4         60.0     9550            7  ...        0       2    2006     140000\n",
              "4   5         84.0    14260            8  ...        0      12    2008     250000\n",
              "\n",
              "[5 rows x 37 columns]"
            ]
          },
          "metadata": {
            "tags": []
          },
          "execution_count": 5
        }
      ]
    },
    {
      "cell_type": "code",
      "metadata": {
        "id": "qKZKILdtgeM1",
        "colab_type": "code",
        "colab": {}
      },
      "source": [
        ""
      ],
      "execution_count": 0,
      "outputs": []
    },
    {
      "cell_type": "markdown",
      "metadata": {
        "id": "XKmlv0n-geM4",
        "colab_type": "text"
      },
      "source": [
        "## Cross validation\n",
        "\n",
        "We want to measure how well a classifier will work on unseen data. To that end, we usually split our data into two pieces, a __training set__ that we will use to train the regression function, and a __test set__ that we will use to evaluate the function. This method sacrifices some of our data to (hopefully) increase our accuracy by giving  to get a better idea of how good our fit actually. If overfitting is a concern, it is vital to test a regression function against data that is was not trained on. Typically in Machine Learning, we will test many models with the train test split and use their relative accuracies to determine which model should be used for that particular problem. The model can then be trained against to entire dataset before being put into production.\n",
        "\n",
        "We will use a 80%-20% train-test split. Since we have 1449 data points, the training set will be 1159 rows and the test set will be 290 rows. We can use Pandas built in `df.sample` function to sample the dataframe and the drop the training rows the form the test set.\n",
        "\n",
        "* `DataFrame.sample(n=None, frac=None, replace=True, random_state=None)` Sample elements of a dataframe. If `n` is specified it returns a number of elements from the dataframe, if `frac` is specified it returns a fraction of the dataframe. The `replace` determines whether the sampling is done with or without replacement. It can be set to `False` but defaults to `True`. The `random_state` parameter is a random seed.  \n",
        "\n",
        "https://pandas.pydata.org/pandas-docs/stable/reference/api/pandas.DataFrame.sample.html"
      ]
    },
    {
      "cell_type": "code",
      "metadata": {
        "id": "fZ6e-SkIgeM5",
        "colab_type": "code",
        "outputId": "fd6b6370-f736-4ab7-bc2d-670e2406080a",
        "colab": {
          "base_uri": "https://localhost:8080/",
          "height": 52
        }
      },
      "source": [
        "print(\"Train Size:\", 1449*.8)\n",
        "print(\"Test Size:\", 1449*.2)"
      ],
      "execution_count": 0,
      "outputs": [
        {
          "output_type": "stream",
          "text": [
            "Train Size: 1159.2\n",
            "Test Size: 289.8\n"
          ],
          "name": "stdout"
        }
      ]
    },
    {
      "cell_type": "code",
      "metadata": {
        "id": "sWCloVt_geM7",
        "colab_type": "code",
        "outputId": "fa471b4f-80b9-421a-c6b6-74a0f49efc5f",
        "colab": {
          "base_uri": "https://localhost:8080/",
          "height": 52
        }
      },
      "source": [
        "Test_Size = 1159\n",
        "\n",
        "train=data.sample(n=Test_Size,replace=False,random_state=150)\n",
        "test=data.drop(train.index)\n",
        "\n",
        "print(\"Train Shape\", train.shape)\n",
        "print(\"Test Shape\", test.shape)"
      ],
      "execution_count": 0,
      "outputs": [
        {
          "output_type": "stream",
          "text": [
            "Train Shape (1159, 37)\n",
            "Test Shape (277, 37)\n"
          ],
          "name": "stdout"
        }
      ]
    },
    {
      "cell_type": "markdown",
      "metadata": {
        "id": "Ct6QlR9PgeM-",
        "colab_type": "text"
      },
      "source": [
        "We then split the train and test into input and target data."
      ]
    },
    {
      "cell_type": "code",
      "metadata": {
        "id": "HZZNzqRZgeM-",
        "colab_type": "code",
        "colab": {}
      },
      "source": [
        "X_train = train.drop(columns=['SalePrice','Id'])\n",
        "Y_train = train['SalePrice']\n",
        "\n",
        "X_test = test.drop(columns=['SalePrice','Id'])\n",
        "Y_test = test['SalePrice']"
      ],
      "execution_count": 0,
      "outputs": []
    },
    {
      "cell_type": "markdown",
      "metadata": {
        "id": "r31AdbMpgeNB",
        "colab_type": "text"
      },
      "source": [
        "## Linear Regression\n",
        "\n",
        "We now want to perform our first predictions using linear regression. We will do a quick one variable fit, only fitting the feature __1stFlrSF__ using both linear algebra and then using the sci-kit learn library and compare the fits. \n",
        "\n",
        "For a single feature, we want to fit a 2 vector of constants $[\\beta_0,\\beta_1]$ to \n",
        "$$\n",
        "Y = \\beta_0 + X\\beta_1 = {X}^T\\beta = [1,X] \\left[ \\begin{matrix} \\beta_0\\\\\\beta_1 \\end{matrix} \\right] \\,.\n",
        "$$\n",
        "The solution will be given by\n",
        "$$\n",
        "\\beta = (\\mathbf{X}^T\\mathbf{X})^{-1}\\mathbf{X}^T\\mathbf{y}\\,,\n",
        "$$\n",
        "where $\\mathbf{X}$ is the $1159 \\times 2$ data matrix whose first column is filled with `1`'s and whose second column contains the data points $x_i$. Similarly, $\\mathbf{y}$ is a column vector of target values.\n",
        "\n",
        "We will convert the dataframes __X_train__ and __Y_train__ to `numpy` matrices __X__ and __y__ respectively to perform this calculation, but lets start with one variable. We will try to fit __1stFlrSF__ to __SalePrice __."
      ]
    },
    {
      "cell_type": "code",
      "metadata": {
        "id": "GjcSOWWdgeNB",
        "colab_type": "code",
        "outputId": "227c3ba2-2c94-43bf-e0ba-351c1e049cc1",
        "colab": {
          "base_uri": "https://localhost:8080/"
        }
      },
      "source": [
        "X = np.matrix(X_train['1stFlrSF'])\n",
        "Y = np.matrix(Y_train)\n",
        "\n",
        "# Check the shape, they need to be column vectors.\n",
        "\n",
        "print(\"X shape\",X.shape)\n",
        "print(\"Y shape\",Y.shape)"
      ],
      "execution_count": 0,
      "outputs": [
        {
          "output_type": "stream",
          "text": [
            "X shape (1, 1159)\n",
            "Y shape (1, 1159)\n"
          ],
          "name": "stdout"
        }
      ]
    },
    {
      "cell_type": "markdown",
      "metadata": {
        "id": "QY7q0BzwgeNE",
        "colab_type": "text"
      },
      "source": [
        "We need to reshape these vectors into column vectors. When using reshape, you're always constrained by the fact that the new matrix shape needs to be compatible with the old shape. Practically, that means we can let Python figure out one dimension for us. You specify the dependent dimension by -1. For example,\n",
        "\n",
        "`DataFrame.reshape(-1,1)` return a vector with 1 row and however many columns are required to match the original shape. "
      ]
    },
    {
      "cell_type": "code",
      "metadata": {
        "id": "1XHFcVk1geNF",
        "colab_type": "code",
        "outputId": "e30b02cb-2c29-47e9-979b-57b390831808",
        "colab": {
          "base_uri": "https://localhost:8080/"
        }
      },
      "source": [
        "X = X.reshape(-1,1)\n",
        "Y = Y.reshape(-1,1)\n",
        "\n",
        "Y.shape"
      ],
      "execution_count": 0,
      "outputs": [
        {
          "output_type": "execute_result",
          "data": {
            "text/plain": [
              "(1159, 1)"
            ]
          },
          "metadata": {
            "tags": []
          },
          "execution_count": 10
        }
      ]
    },
    {
      "cell_type": "markdown",
      "metadata": {
        "id": "0uush2XegeNI",
        "colab_type": "text"
      },
      "source": [
        "Now, we add a column of 1's for the affine term"
      ]
    },
    {
      "cell_type": "code",
      "metadata": {
        "id": "PfjLKIIegeNJ",
        "colab_type": "code",
        "colab": {}
      },
      "source": [
        "Xa = np.append(np.ones(X.shape),X,1)\n"
      ],
      "execution_count": 0,
      "outputs": []
    },
    {
      "cell_type": "markdown",
      "metadata": {
        "id": "igAW6yiLgeNM",
        "colab_type": "text"
      },
      "source": [
        "And compute beta."
      ]
    },
    {
      "cell_type": "code",
      "metadata": {
        "id": "MyZd0FMtgeNM",
        "colab_type": "code",
        "outputId": "b4361850-58bd-4661-f493-bc949d5d4706",
        "colab": {
          "base_uri": "https://localhost:8080/",
          "height": 69
        }
      },
      "source": [
        "betas = (Xa.T*Xa).I*Xa.T*Y\n",
        "print(betas)\n",
        "betas[1].A1[0]"
      ],
      "execution_count": 97,
      "outputs": [
        {
          "output_type": "stream",
          "text": [
            "[[38036.50720916]\n",
            " [  121.15764005]]\n"
          ],
          "name": "stdout"
        },
        {
          "output_type": "execute_result",
          "data": {
            "text/plain": [
              "121.15764004608762"
            ]
          },
          "metadata": {
            "tags": []
          },
          "execution_count": 97
        }
      ]
    },
    {
      "cell_type": "markdown",
      "metadata": {
        "id": "CiSU7YgkgeNP",
        "colab_type": "text"
      },
      "source": [
        "We now plot the data against the fit line."
      ]
    },
    {
      "cell_type": "code",
      "metadata": {
        "id": "O03S8qrxgeNP",
        "colab_type": "code",
        "outputId": "c0fe3221-0fc9-428f-e771-3322d64cc525",
        "colab": {
          "base_uri": "https://localhost:8080/",
          "height": 577
        }
      },
      "source": [
        "plt.plot(X,Y,'o')\n",
        "plt.plot(X,Xa*betas)"
      ],
      "execution_count": 91,
      "outputs": [
        {
          "output_type": "error",
          "ename": "ValueError",
          "evalue": "ignored",
          "traceback": [
            "\u001b[0;31m---------------------------------------------------------------------------\u001b[0m",
            "\u001b[0;31mValueError\u001b[0m                                Traceback (most recent call last)",
            "\u001b[0;32m<ipython-input-91-dea5e74803da>\u001b[0m in \u001b[0;36m<module>\u001b[0;34m()\u001b[0m\n\u001b[1;32m      1\u001b[0m \u001b[0mplt\u001b[0m\u001b[0;34m.\u001b[0m\u001b[0mplot\u001b[0m\u001b[0;34m(\u001b[0m\u001b[0mX\u001b[0m\u001b[0;34m,\u001b[0m\u001b[0mY\u001b[0m\u001b[0;34m,\u001b[0m\u001b[0;34m'o'\u001b[0m\u001b[0;34m)\u001b[0m\u001b[0;34m\u001b[0m\u001b[0;34m\u001b[0m\u001b[0m\n\u001b[0;32m----> 2\u001b[0;31m \u001b[0mplt\u001b[0m\u001b[0;34m.\u001b[0m\u001b[0mplot\u001b[0m\u001b[0;34m(\u001b[0m\u001b[0mX\u001b[0m\u001b[0;34m,\u001b[0m\u001b[0mXa\u001b[0m\u001b[0;34m*\u001b[0m\u001b[0mbetas\u001b[0m\u001b[0;34m)\u001b[0m\u001b[0;34m\u001b[0m\u001b[0;34m\u001b[0m\u001b[0m\n\u001b[0m",
            "\u001b[0;32m/usr/local/lib/python3.6/dist-packages/pandas/core/ops/__init__.py\u001b[0m in \u001b[0;36mf\u001b[0;34m(self, other, axis, level, fill_value)\u001b[0m\n\u001b[1;32m   1486\u001b[0m     \u001b[0;32mdef\u001b[0m \u001b[0mf\u001b[0m\u001b[0;34m(\u001b[0m\u001b[0mself\u001b[0m\u001b[0;34m,\u001b[0m \u001b[0mother\u001b[0m\u001b[0;34m,\u001b[0m \u001b[0maxis\u001b[0m\u001b[0;34m=\u001b[0m\u001b[0mdefault_axis\u001b[0m\u001b[0;34m,\u001b[0m \u001b[0mlevel\u001b[0m\u001b[0;34m=\u001b[0m\u001b[0;32mNone\u001b[0m\u001b[0;34m,\u001b[0m \u001b[0mfill_value\u001b[0m\u001b[0;34m=\u001b[0m\u001b[0;32mNone\u001b[0m\u001b[0;34m)\u001b[0m\u001b[0;34m:\u001b[0m\u001b[0;34m\u001b[0m\u001b[0;34m\u001b[0m\u001b[0m\n\u001b[1;32m   1487\u001b[0m \u001b[0;34m\u001b[0m\u001b[0m\n\u001b[0;32m-> 1488\u001b[0;31m         \u001b[0mother\u001b[0m \u001b[0;34m=\u001b[0m \u001b[0m_align_method_FRAME\u001b[0m\u001b[0;34m(\u001b[0m\u001b[0mself\u001b[0m\u001b[0;34m,\u001b[0m \u001b[0mother\u001b[0m\u001b[0;34m,\u001b[0m \u001b[0maxis\u001b[0m\u001b[0;34m)\u001b[0m\u001b[0;34m\u001b[0m\u001b[0;34m\u001b[0m\u001b[0m\n\u001b[0m\u001b[1;32m   1489\u001b[0m \u001b[0;34m\u001b[0m\u001b[0m\n\u001b[1;32m   1490\u001b[0m         \u001b[0;32mif\u001b[0m \u001b[0misinstance\u001b[0m\u001b[0;34m(\u001b[0m\u001b[0mother\u001b[0m\u001b[0;34m,\u001b[0m \u001b[0mABCDataFrame\u001b[0m\u001b[0;34m)\u001b[0m\u001b[0;34m:\u001b[0m\u001b[0;34m\u001b[0m\u001b[0;34m\u001b[0m\u001b[0m\n",
            "\u001b[0;32m/usr/local/lib/python3.6/dist-packages/pandas/core/ops/__init__.py\u001b[0m in \u001b[0;36m_align_method_FRAME\u001b[0;34m(left, right, axis)\u001b[0m\n\u001b[1;32m   1444\u001b[0m                     \u001b[0;34m\"Unable to coerce to DataFrame, shape \"\u001b[0m\u001b[0;34m\u001b[0m\u001b[0;34m\u001b[0m\u001b[0m\n\u001b[1;32m   1445\u001b[0m                     \"must be {req_shape}: given {given_shape}\".format(\n\u001b[0;32m-> 1446\u001b[0;31m                         \u001b[0mreq_shape\u001b[0m\u001b[0;34m=\u001b[0m\u001b[0mleft\u001b[0m\u001b[0;34m.\u001b[0m\u001b[0mshape\u001b[0m\u001b[0;34m,\u001b[0m \u001b[0mgiven_shape\u001b[0m\u001b[0;34m=\u001b[0m\u001b[0mright\u001b[0m\u001b[0;34m.\u001b[0m\u001b[0mshape\u001b[0m\u001b[0;34m\u001b[0m\u001b[0;34m\u001b[0m\u001b[0m\n\u001b[0m\u001b[1;32m   1447\u001b[0m                     )\n\u001b[1;32m   1448\u001b[0m                 )\n",
            "\u001b[0;31mValueError\u001b[0m: Unable to coerce to DataFrame, shape must be (20, 36): given (1159, 2)"
          ]
        },
        {
          "output_type": "display_data",
          "data": {
            "image/png": "[encoded data removed]",
            "text/plain": [
              "<Figure size 432x288 with 1 Axes>"
            ]
          },
          "metadata": {
            "tags": []
          }
        }
      ]
    },
    {
      "cell_type": "markdown",
      "metadata": {
        "id": "8Ytl_o8wgeNU",
        "colab_type": "text"
      },
      "source": [
        "Lets check how we did on our test set, both with a graph and numerically. Graphically, we can just plot the regression line again the test data scatter plot. We can evaluate the model numerically but computing the residual sum squared\n",
        "$$\n",
        "RSS(\\beta) = \\sum_{i=1}^N (y_i - x_i^T\\beta)^2\\,,\n",
        "$$\n",
        "the root mean square\n",
        "$$\n",
        "RMS(\\beta) = \\left(\\frac{1}{N}(y_i - x_i^T\\beta)^2\\right)^{\\frac12}\\,,\n",
        "$$\n",
        "and the $r^2$ value\n",
        "$$\n",
        "r^2 = 1 - \\frac{RSS(\\beta)}{\\sum_{i=1}^N (y_i - E[y])^2}\\,.\n",
        "$$\n",
        "\n",
        "On the training data, the RMS is"
      ]
    },
    {
      "cell_type": "code",
      "metadata": {
        "id": "mFFuIQU6geNW",
        "colab_type": "code",
        "outputId": "68df833c-9d38-43a4-e3bc-0bf5a0582c6c",
        "colab": {
          "base_uri": "https://localhost:8080/"
        }
      },
      "source": [
        "RSS = (Y - Xa*betas).T*(Y - Xa*betas)\n",
        "RMS = np.sqrt(RSS/len(Y))\n",
        "\n",
        "print(\"The Residual Sum Square is\", RSS)\n",
        "print(\"The Root Mean Square is\", RMS)"
      ],
      "execution_count": 0,
      "outputs": [
        {
          "output_type": "stream",
          "text": [
            "The Residual Sum Square is [[3.66855699e+12]]\n",
            "The Root Mean Square is [[56260.80181024]]\n"
          ],
          "name": "stdout"
        }
      ]
    },
    {
      "cell_type": "markdown",
      "metadata": {
        "id": "BxxaeV9hgeNa",
        "colab_type": "text"
      },
      "source": [
        "Lets set up the matrices for the test data."
      ]
    },
    {
      "cell_type": "code",
      "metadata": {
        "id": "XDEWojJ3geNb",
        "colab_type": "code",
        "colab": {}
      },
      "source": [
        "XT = np.matrix(X_test['1stFlrSF']).reshape(-1,1)\n",
        "XTa = np.append(np.ones(XT.shape), XT,1)\n",
        "\n",
        "YT = np.matrix(Y_test).reshape(-1,1)"
      ],
      "execution_count": 0,
      "outputs": []
    },
    {
      "cell_type": "markdown",
      "metadata": {
        "id": "bSqdpSHUgeNe",
        "colab_type": "text"
      },
      "source": [
        "We can now compute the RSS and RMS on the test data:"
      ]
    },
    {
      "cell_type": "code",
      "metadata": {
        "id": "5qpcBtf_geNf",
        "colab_type": "code",
        "outputId": "709e0da8-41c0-448b-c1bd-b2c76ea1685e",
        "colab": {
          "base_uri": "https://localhost:8080/"
        }
      },
      "source": [
        "RSS = (YT - XTa*betas).T*(YT - XTa*betas)\n",
        "RMS = np.sqrt(RSS/len(YT))\n",
        "print(\"The Residual Sum Square is\", RSS)\n",
        "print(\"The Root Mean Square is\", RMS)\n",
        "\n",
        "Rsq = 1 - RSS/((YT - YT.mean()).T*(YT - YT.mean()))\n",
        "\n",
        "print(\"R^2 Score is\", Rsq)"
      ],
      "execution_count": 0,
      "outputs": [
        {
          "output_type": "stream",
          "text": [
            "The Residual Sum Square is [[9.93336699e+11]]\n",
            "The Root Mean Square is [[59883.66275693]]\n",
            "R^2 Score is [[0.31837491]]\n"
          ],
          "name": "stdout"
        }
      ]
    },
    {
      "cell_type": "code",
      "metadata": {
        "id": "iNzPltIAgeNh",
        "colab_type": "code",
        "outputId": "10f92bb9-c6b9-43bc-9438-3d8f3edc963e",
        "colab": {
          "base_uri": "https://localhost:8080/"
        }
      },
      "source": [
        "plt.plot(XT,YT,'o')\n",
        "plt.plot(XT,XTa*betas)"
      ],
      "execution_count": 0,
      "outputs": [
        {
          "output_type": "execute_result",
          "data": {
            "text/plain": [
              "[<matplotlib.lines.Line2D at 0x7fea3026e550>]"
            ]
          },
          "metadata": {
            "tags": []
          },
          "execution_count": 17
        },
        {
          "output_type": "display_data",
          "data": {
            "image/png": "[encoded data removed]",
            "text/plain": [
              "<Figure size 432x288 with 1 Axes>"
            ]
          },
          "metadata": {
            "tags": []
          }
        }
      ]
    },
    {
      "cell_type": "markdown",
      "metadata": {
        "id": "6h6F1r3wgeNk",
        "colab_type": "text"
      },
      "source": [
        "#### Exercise: \n",
        "\n",
        "We could also consider other metrics, even when evaluating our result. For example, calculate the __average absolute difference__ between the predicted value and true value for both the test and train data."
      ]
    },
    {
      "cell_type": "code",
      "metadata": {
        "id": "rpQ9OUM3geNk",
        "colab_type": "code",
        "outputId": "295a010b-350f-4dca-d596-f443164b4f11",
        "colab": {
          "base_uri": "https://localhost:8080/"
        }
      },
      "source": [
        "np.abs(Y - Xa*betas).mean()"
      ],
      "execution_count": 0,
      "outputs": [
        {
          "output_type": "execute_result",
          "data": {
            "text/plain": [
              "43155.336534422706"
            ]
          },
          "metadata": {
            "tags": []
          },
          "execution_count": 18
        }
      ]
    },
    {
      "cell_type": "code",
      "metadata": {
        "id": "cHypZDKNgeNn",
        "colab_type": "code",
        "outputId": "5db0c8ac-6f15-427b-c796-b34e0e0fd8d8",
        "colab": {
          "base_uri": "https://localhost:8080/"
        }
      },
      "source": [
        "np.abs(YT - XTa*betas).mean()"
      ],
      "execution_count": 0,
      "outputs": [
        {
          "output_type": "execute_result",
          "data": {
            "text/plain": [
              "46207.68075589976"
            ]
          },
          "metadata": {
            "tags": []
          },
          "execution_count": 19
        }
      ]
    },
    {
      "cell_type": "markdown",
      "metadata": {
        "id": "TbXMDmOfgeNq",
        "colab_type": "text"
      },
      "source": [
        "#### How do we understand the results\n",
        "\n",
        "Comparing the RMS values for the train and test data you may find that the results on the training data are better, or that the results on the test data are better. This means that our training data is reasonably representative of the whole set, but you should note that different choices of random splitting in the data will lead to different $\\beta$ values and so different goodnesses of fit. This variability with respect to the sampling of the distribution is what is being captured in the variance. \n",
        "\n",
        "\n",
        "#### Exercise: \n",
        "Try running the code about for two different seeds in the training test split: `random_state=150` and `random_state=200`. Compare the results. How do you explain them?"
      ]
    },
    {
      "cell_type": "code",
      "metadata": {
        "id": "Tia7ysGdgeNr",
        "colab_type": "code",
        "colab": {}
      },
      "source": [
        ""
      ],
      "execution_count": 0,
      "outputs": []
    },
    {
      "cell_type": "markdown",
      "metadata": {
        "id": "VDhCxwhtgeNt",
        "colab_type": "text"
      },
      "source": [
        "## Linear Regression with Sklearn\n",
        "\n",
        "We will now use sci-kit learn's built in regression function. We import `LinearRegression` from `sklearn.linear_model`, the toolkit of linear models in sci-kit learn. We then set up a linear regression object using\n",
        "\n",
        "`lr = LinearRegression()`\n",
        "\n",
        "An object like a linear regression object is a structure like a dataframe. It stores data, but also has a series of utility function associated with it. It is a self contained machine that we can put data into, turn a crank (by calling functions) and have it process and return that data. In this case, it takes in training data and fits a linear regressor to it. We can then ask it return the parameters of that regressor with \n",
        "\n",
        "* `lr.coef_` Returns the slope coefficients of regression $\\beta_1,\\ldots, \\beta_p$.\n",
        "* `lr.intercept_` Returns the intercept of regression $\\beta_0$.\n",
        "* `lr.score(X_data,Y_data)` Returns the $r^2$ score on `X_data` and `Y_data`.\n",
        "\n",
        "Note, that `LinearRegression` wants the data in the form we've been using in class: the $X$ data should be a $N$ by $p$ matrix of data points and the $y$ data should be a $N$ by 1 column vector. "
      ]
    },
    {
      "cell_type": "code",
      "metadata": {
        "id": "XPUa6XuUgeNu",
        "colab_type": "code",
        "outputId": "5f360e65-1443-4bca-c880-c912bd793514",
        "colab": {
          "base_uri": "https://localhost:8080/",
          "height": 243
        }
      },
      "source": [
        "## Resample the data if needed\n",
        "\n",
        "train=data.sample(n=Test_Size,replace=False,random_state=150)\n",
        "test=data.drop(train.index)\n",
        "\n",
        "X_train = train.drop(columns=['SalePrice','Id'])\n",
        "Y_train = train['SalePrice']\n",
        "\n",
        "X_test = test.drop(columns=['SalePrice','Id'])\n",
        "Y_test = test['SalePrice']\n",
        "\n",
        "X = np.matrix(X_train['1stFlrSF']).T\n",
        "Y = np.matrix(Y_train).T\n",
        "\n",
        "XT = np.matrix(X_test['1stFlrSF']).T\n",
        "YT = np.matrix(Y_test).T\n",
        "\n",
        "print('X shape:', X.shape,'Y shape', Y.shape)\n",
        "X_train\n",
        "Y_train"
      ],
      "execution_count": 43,
      "outputs": [
        {
          "output_type": "stream",
          "text": [
            "X shape: (1159, 1) Y shape (1159, 1)\n"
          ],
          "name": "stdout"
        },
        {
          "output_type": "execute_result",
          "data": {
            "text/plain": [
              "524     315750\n",
              "32      179900\n",
              "888     268000\n",
              "294     167000\n",
              "521     150000\n",
              "         ...  \n",
              "302     205000\n",
              "1405    275000\n",
              "1390    235000\n",
              "73      144900\n",
              "885     328900\n",
              "Name: SalePrice, Length: 1159, dtype: int64"
            ]
          },
          "metadata": {
            "tags": []
          },
          "execution_count": 43
        }
      ]
    },
    {
      "cell_type": "markdown",
      "metadata": {
        "id": "f9xQZ9wHgeNx",
        "colab_type": "text"
      },
      "source": [
        "Note in the above that since Sci-kit learn expects a $N\\times p$ matrix for `X` and a column vector for `Y`, we will need to transpose them from their cut form. "
      ]
    },
    {
      "cell_type": "code",
      "metadata": {
        "id": "FawHWmtlgeNy",
        "colab_type": "code",
        "outputId": "28f1f3b3-5712-40b9-bc36-1155d1ec94f9",
        "colab": {
          "base_uri": "https://localhost:8080/"
        }
      },
      "source": [
        "from sklearn.linear_model import LinearRegression\n",
        "lr = LinearRegression()\n",
        "lr.fit(X,Y)\n",
        "\n",
        "print([lr.coef_,lr.intercept_])\n",
        "print(lr.score(XT,YT))"
      ],
      "execution_count": 0,
      "outputs": [
        {
          "output_type": "stream",
          "text": [
            "[array([[121.15764005]]), array([38036.50720916])]\n",
            "0.31837490938898894\n"
          ],
          "name": "stdout"
        }
      ]
    },
    {
      "cell_type": "markdown",
      "metadata": {
        "id": "1Ra4jYmJgeN1",
        "colab_type": "text"
      },
      "source": [
        "## Regression with statsmodels.api\n",
        "\n",
        "Although in this class we will be focusing on sci-kit learn, there's another important statistics library to be aware of, statsmodels.api. For regression in particular, statsmodels.api is just a much better tool, performing all of the statistical analysis you would like. The only caveat is that stats model doesn't naturally fit to a constant term, so we must again add a column of 1's. But statsmodels.api has a function to preform that task.\n",
        "\n",
        "* `sm.OLS(Y_Data, X_data)` OLS returns an ordinary least squares object which can then be fit with `ols.fit()`. The fit object returned by `ols.fit()` has a robust `.summary()` method that gives all us rich and detailed information about the regression fit.\n",
        "\n",
        "Note: in addition to fitting, OLS has functions to deal with missing values and built in ridge and lasso regression functions. "
      ]
    },
    {
      "cell_type": "code",
      "metadata": {
        "id": "CQ7s_yRWgeN1",
        "colab_type": "code",
        "outputId": "aa999309-0545-43d0-8d75-a80aab1682ac",
        "colab": {
          "base_uri": "https://localhost:8080/",
          "height": 475
        }
      },
      "source": [
        "import statsmodels.api as sm\n",
        "\n",
        "ols = sm.OLS(Y, Xa)\n",
        "ols_result = ols.fit()\n",
        "\n",
        "ols_result.summary()"
      ],
      "execution_count": 0,
      "outputs": [
        {
          "output_type": "execute_result",
          "data": {
            "text/html": [
              "<table class=\"simpletable\">\n",
              "<caption>OLS Regression Results</caption>\n",
              "<tr>\n",
              "  <th>Dep. Variable:</th>            <td>y</td>        <th>  R-squared:         </th> <td>   0.382</td> \n",
              "</tr>\n",
              "<tr>\n",
              "  <th>Model:</th>                   <td>OLS</td>       <th>  Adj. R-squared:    </th> <td>   0.381</td> \n",
              "</tr>\n",
              "<tr>\n",
              "  <th>Method:</th>             <td>Least Squares</td>  <th>  F-statistic:       </th> <td>   715.1</td> \n",
              "</tr>\n",
              "<tr>\n",
              "  <th>Date:</th>             <td>Wed, 05 Feb 2020</td> <th>  Prob (F-statistic):</th> <td>4.78e-123</td>\n",
              "</tr>\n",
              "<tr>\n",
              "  <th>Time:</th>                 <td>04:05:13</td>     <th>  Log-Likelihood:    </th> <td> -14321.</td> \n",
              "</tr>\n",
              "<tr>\n",
              "  <th>No. Observations:</th>      <td>  1159</td>      <th>  AIC:               </th> <td>2.865e+04</td>\n",
              "</tr>\n",
              "<tr>\n",
              "  <th>Df Residuals:</th>          <td>  1157</td>      <th>  BIC:               </th> <td>2.866e+04</td>\n",
              "</tr>\n",
              "<tr>\n",
              "  <th>Df Model:</th>              <td>     1</td>      <th>                     </th>     <td> </td>    \n",
              "</tr>\n",
              "<tr>\n",
              "  <th>Covariance Type:</th>      <td>nonrobust</td>    <th>                     </th>     <td> </td>    \n",
              "</tr>\n",
              "</table>\n",
              "<table class=\"simpletable\">\n",
              "<tr>\n",
              "    <td></td>       <th>coef</th>     <th>std err</th>      <th>t</th>      <th>P>|t|</th>  <th>[0.025</th>    <th>0.975]</th>  \n",
              "</tr>\n",
              "<tr>\n",
              "  <th>const</th> <td> 3.804e+04</td> <td> 5469.324</td> <td>    6.955</td> <td> 0.000</td> <td> 2.73e+04</td> <td> 4.88e+04</td>\n",
              "</tr>\n",
              "<tr>\n",
              "  <th>x1</th>    <td>  121.1576</td> <td>    4.531</td> <td>   26.741</td> <td> 0.000</td> <td>  112.268</td> <td>  130.047</td>\n",
              "</tr>\n",
              "</table>\n",
              "<table class=\"simpletable\">\n",
              "<tr>\n",
              "  <th>Omnibus:</th>       <td>171.875</td> <th>  Durbin-Watson:     </th> <td>   1.969</td>\n",
              "</tr>\n",
              "<tr>\n",
              "  <th>Prob(Omnibus):</th> <td> 0.000</td>  <th>  Jarque-Bera (JB):  </th> <td> 324.780</td>\n",
              "</tr>\n",
              "<tr>\n",
              "  <th>Skew:</th>          <td> 0.903</td>  <th>  Prob(JB):          </th> <td>2.98e-71</td>\n",
              "</tr>\n",
              "<tr>\n",
              "  <th>Kurtosis:</th>      <td> 4.862</td>  <th>  Cond. No.          </th> <td>3.99e+03</td>\n",
              "</tr>\n",
              "</table><br/><br/>Warnings:<br/>[1] Standard Errors assume that the covariance matrix of the errors is correctly specified.<br/>[2] The condition number is large, 3.99e+03. This might indicate that there are<br/>strong multicollinearity or other numerical problems."
            ],
            "text/plain": [
              "<class 'statsmodels.iolib.summary.Summary'>\n",
              "\"\"\"\n",
              "                            OLS Regression Results                            \n",
              "==============================================================================\n",
              "Dep. Variable:                      y   R-squared:                       0.382\n",
              "Model:                            OLS   Adj. R-squared:                  0.381\n",
              "Method:                 Least Squares   F-statistic:                     715.1\n",
              "Date:                Wed, 05 Feb 2020   Prob (F-statistic):          4.78e-123\n",
              "Time:                        04:05:13   Log-Likelihood:                -14321.\n",
              "No. Observations:                1159   AIC:                         2.865e+04\n",
              "Df Residuals:                    1157   BIC:                         2.866e+04\n",
              "Df Model:                           1                                         \n",
              "Covariance Type:            nonrobust                                         \n",
              "==============================================================================\n",
              "                 coef    std err          t      P>|t|      [0.025      0.975]\n",
              "------------------------------------------------------------------------------\n",
              "const       3.804e+04   5469.324      6.955      0.000    2.73e+04    4.88e+04\n",
              "x1           121.1576      4.531     26.741      0.000     112.268     130.047\n",
              "==============================================================================\n",
              "Omnibus:                      171.875   Durbin-Watson:                   1.969\n",
              "Prob(Omnibus):                  0.000   Jarque-Bera (JB):              324.780\n",
              "Skew:                           0.903   Prob(JB):                     2.98e-71\n",
              "Kurtosis:                       4.862   Cond. No.                     3.99e+03\n",
              "==============================================================================\n",
              "\n",
              "Warnings:\n",
              "[1] Standard Errors assume that the covariance matrix of the errors is correctly specified.\n",
              "[2] The condition number is large, 3.99e+03. This might indicate that there are\n",
              "strong multicollinearity or other numerical problems.\n",
              "\"\"\""
            ]
          },
          "metadata": {
            "tags": []
          },
          "execution_count": 22
        }
      ]
    },
    {
      "cell_type": "markdown",
      "metadata": {
        "id": "m9_1wXmogeN4",
        "colab_type": "text"
      },
      "source": [
        "Note the OLS has also computed the standard error, the $t/z$-statistic and the $95%$ confidence interval."
      ]
    },
    {
      "cell_type": "markdown",
      "metadata": {
        "id": "mxvOe4YBgeN5",
        "colab_type": "text"
      },
      "source": [
        "## Multilinear Regression: Cleaning Data\n",
        "\n",
        "It actually often takes less computational time to compute a linear regression than it does to plot it. We want to fit the set of training data with all the numerical features to the sale price, but before we do we have to deal with those `NaN` values. For example, if we just try to compute the linear regression now it will return an error. \n",
        "\n",
        "Now, lets try to train against all of `X_train` and `Y_train` using sci-kit learn."
      ]
    },
    {
      "cell_type": "code",
      "metadata": {
        "id": "Q0crc0-8geN6",
        "colab_type": "code",
        "outputId": "ed7c6aac-7e15-401d-a9cd-386e7e907e76",
        "colab": {
          "base_uri": "https://localhost:8080/",
          "height": 329
        }
      },
      "source": [
        "lr = LinearRegression()\n",
        "#lr.fit(X_train,Y_train)"
      ],
      "execution_count": 41,
      "outputs": [
        {
          "output_type": "error",
          "ename": "ValueError",
          "evalue": "ignored",
          "traceback": [
            "\u001b[0;31m---------------------------------------------------------------------------\u001b[0m",
            "\u001b[0;31mValueError\u001b[0m                                Traceback (most recent call last)",
            "\u001b[0;32m<ipython-input-41-7ee57f95765a>\u001b[0m in \u001b[0;36m<module>\u001b[0;34m()\u001b[0m\n\u001b[1;32m      1\u001b[0m \u001b[0mlr\u001b[0m \u001b[0;34m=\u001b[0m \u001b[0mLinearRegression\u001b[0m\u001b[0;34m(\u001b[0m\u001b[0;34m)\u001b[0m\u001b[0;34m\u001b[0m\u001b[0;34m\u001b[0m\u001b[0m\n\u001b[0;32m----> 2\u001b[0;31m \u001b[0mlr\u001b[0m\u001b[0;34m.\u001b[0m\u001b[0mfit\u001b[0m\u001b[0;34m(\u001b[0m\u001b[0mX_train\u001b[0m\u001b[0;34m,\u001b[0m\u001b[0mY_train\u001b[0m\u001b[0;34m)\u001b[0m\u001b[0;34m\u001b[0m\u001b[0;34m\u001b[0m\u001b[0m\n\u001b[0m",
            "\u001b[0;32m/usr/local/lib/python3.6/dist-packages/sklearn/linear_model/_base.py\u001b[0m in \u001b[0;36mfit\u001b[0;34m(self, X, y, sample_weight)\u001b[0m\n\u001b[1;32m    490\u001b[0m         \u001b[0mn_jobs_\u001b[0m \u001b[0;34m=\u001b[0m \u001b[0mself\u001b[0m\u001b[0;34m.\u001b[0m\u001b[0mn_jobs\u001b[0m\u001b[0;34m\u001b[0m\u001b[0;34m\u001b[0m\u001b[0m\n\u001b[1;32m    491\u001b[0m         X, y = check_X_y(X, y, accept_sparse=['csr', 'csc', 'coo'],\n\u001b[0;32m--> 492\u001b[0;31m                          y_numeric=True, multi_output=True)\n\u001b[0m\u001b[1;32m    493\u001b[0m \u001b[0;34m\u001b[0m\u001b[0m\n\u001b[1;32m    494\u001b[0m         \u001b[0;32mif\u001b[0m \u001b[0msample_weight\u001b[0m \u001b[0;32mis\u001b[0m \u001b[0;32mnot\u001b[0m \u001b[0;32mNone\u001b[0m\u001b[0;34m:\u001b[0m\u001b[0;34m\u001b[0m\u001b[0;34m\u001b[0m\u001b[0m\n",
            "\u001b[0;32m/usr/local/lib/python3.6/dist-packages/sklearn/utils/validation.py\u001b[0m in \u001b[0;36mcheck_X_y\u001b[0;34m(X, y, accept_sparse, accept_large_sparse, dtype, order, copy, force_all_finite, ensure_2d, allow_nd, multi_output, ensure_min_samples, ensure_min_features, y_numeric, warn_on_dtype, estimator)\u001b[0m\n\u001b[1;32m    753\u001b[0m                     \u001b[0mensure_min_features\u001b[0m\u001b[0;34m=\u001b[0m\u001b[0mensure_min_features\u001b[0m\u001b[0;34m,\u001b[0m\u001b[0;34m\u001b[0m\u001b[0;34m\u001b[0m\u001b[0m\n\u001b[1;32m    754\u001b[0m                     \u001b[0mwarn_on_dtype\u001b[0m\u001b[0;34m=\u001b[0m\u001b[0mwarn_on_dtype\u001b[0m\u001b[0;34m,\u001b[0m\u001b[0;34m\u001b[0m\u001b[0;34m\u001b[0m\u001b[0m\n\u001b[0;32m--> 755\u001b[0;31m                     estimator=estimator)\n\u001b[0m\u001b[1;32m    756\u001b[0m     \u001b[0;32mif\u001b[0m \u001b[0mmulti_output\u001b[0m\u001b[0;34m:\u001b[0m\u001b[0;34m\u001b[0m\u001b[0;34m\u001b[0m\u001b[0m\n\u001b[1;32m    757\u001b[0m         y = check_array(y, 'csr', force_all_finite=True, ensure_2d=False,\n",
            "\u001b[0;32m/usr/local/lib/python3.6/dist-packages/sklearn/utils/validation.py\u001b[0m in \u001b[0;36mcheck_array\u001b[0;34m(array, accept_sparse, accept_large_sparse, dtype, order, copy, force_all_finite, ensure_2d, allow_nd, ensure_min_samples, ensure_min_features, warn_on_dtype, estimator)\u001b[0m\n\u001b[1;32m    576\u001b[0m         \u001b[0;32mif\u001b[0m \u001b[0mforce_all_finite\u001b[0m\u001b[0;34m:\u001b[0m\u001b[0;34m\u001b[0m\u001b[0;34m\u001b[0m\u001b[0m\n\u001b[1;32m    577\u001b[0m             _assert_all_finite(array,\n\u001b[0;32m--> 578\u001b[0;31m                                allow_nan=force_all_finite == 'allow-nan')\n\u001b[0m\u001b[1;32m    579\u001b[0m \u001b[0;34m\u001b[0m\u001b[0m\n\u001b[1;32m    580\u001b[0m     \u001b[0;32mif\u001b[0m \u001b[0mensure_min_samples\u001b[0m \u001b[0;34m>\u001b[0m \u001b[0;36m0\u001b[0m\u001b[0;34m:\u001b[0m\u001b[0;34m\u001b[0m\u001b[0;34m\u001b[0m\u001b[0m\n",
            "\u001b[0;32m/usr/local/lib/python3.6/dist-packages/sklearn/utils/validation.py\u001b[0m in \u001b[0;36m_assert_all_finite\u001b[0;34m(X, allow_nan, msg_dtype)\u001b[0m\n\u001b[1;32m     58\u001b[0m                     \u001b[0mmsg_err\u001b[0m\u001b[0;34m.\u001b[0m\u001b[0mformat\u001b[0m\u001b[0;34m\u001b[0m\u001b[0;34m\u001b[0m\u001b[0m\n\u001b[1;32m     59\u001b[0m                     (type_err,\n\u001b[0;32m---> 60\u001b[0;31m                      msg_dtype if msg_dtype is not None else X.dtype)\n\u001b[0m\u001b[1;32m     61\u001b[0m             )\n\u001b[1;32m     62\u001b[0m     \u001b[0;31m# for object dtype data, we only check for NaNs (GH-13254)\u001b[0m\u001b[0;34m\u001b[0m\u001b[0;34m\u001b[0m\u001b[0;34m\u001b[0m\u001b[0m\n",
            "\u001b[0;31mValueError\u001b[0m: Input contains NaN, infinity or a value too large for dtype('float64')."
          ]
        }
      ]
    },
    {
      "cell_type": "markdown",
      "metadata": {
        "id": "5rUFQoTJgeOB",
        "colab_type": "text"
      },
      "source": [
        "Fixing missing values is fiddly, and should be done with care. Whatever choice you make will effect your fit, and as a result will effect your accuracy. In general, data cleaning is the usually more than half the battle. \n",
        "\n",
        "To find the `NaN` values, we will use the `DataFrame.isnull().sum()` to return all of the null values, and them sum them along columns. "
      ]
    },
    {
      "cell_type": "code",
      "metadata": {
        "scrolled": true,
        "id": "W8_73iptgeOB",
        "colab_type": "code",
        "colab": {
          "base_uri": "https://localhost:8080/",
          "height": 676
        },
        "outputId": "eac242c2-c9b7-4ecd-bec1-ef05136b5e45"
      },
      "source": [
        "data.isnull().sum()"
      ],
      "execution_count": 44,
      "outputs": [
        {
          "output_type": "execute_result",
          "data": {
            "text/plain": [
              "Id                 0\n",
              "LotFrontage      258\n",
              "LotArea            0\n",
              "OverallQual        0\n",
              "OverallCond        0\n",
              "YearBuilt          0\n",
              "YearRemodAdd       0\n",
              "MasVnrArea         8\n",
              "BsmtFinSF1         0\n",
              "BsmtFinSF2         0\n",
              "BsmtUnfSF          0\n",
              "TotalBsmtSF        0\n",
              "1stFlrSF           0\n",
              "2ndFlrSF           0\n",
              "LowQualFinSF       0\n",
              "GrLivArea          0\n",
              "BsmtFullBath       0\n",
              "BsmtHalfBath       0\n",
              "FullBath           0\n",
              "HalfBath           0\n",
              "BedroomAbvGr       0\n",
              "KitchenAbvGr       0\n",
              "TotRmsAbvGrd       0\n",
              "Fireplaces         0\n",
              "GarageYrBlt       79\n",
              "GarageCars         0\n",
              "GarageArea         0\n",
              "WoodDeckSF         0\n",
              "OpenPorchSF        0\n",
              "EnclosedPorch      0\n",
              "3SsnPorch          0\n",
              "ScreenPorch        0\n",
              "PoolArea           0\n",
              "MiscVal            0\n",
              "MoSold             0\n",
              "YrSold             0\n",
              "SalePrice          0\n",
              "dtype: int64"
            ]
          },
          "metadata": {
            "tags": []
          },
          "execution_count": 44
        }
      ]
    },
    {
      "cell_type": "markdown",
      "metadata": {
        "id": "oHUnoHlqgeOD",
        "colab_type": "text"
      },
      "source": [
        "We find that __LotFrontage__, __MasVnrArea__, and __GarageYrBlt__ are the only numerical features with null values. Lets take a look at each of these values individually. After we make a choice for each variable, we will use\n",
        "\n",
        "* `DataFrame.fillna(Value, inplace=True)` fills all of the `NaN` values in an array with the contents of `Value`. \n",
        "\n",
        "__MasVnrArea__ is \"Masonry veneer area in square feet\". Dumping the data we find a lot of zero values, so its probably safe to assume that 8 values can be set to 0 or the median value. "
      ]
    },
    {
      "cell_type": "code",
      "metadata": {
        "id": "JcY4zqVhgeOE",
        "colab_type": "code",
        "colab": {
          "base_uri": "https://localhost:8080/",
          "height": 35
        },
        "outputId": "662f1e76-4d1f-402a-980c-eefe2381abb6"
      },
      "source": [
        "data[\"MasVnrArea\"].fillna(0,inplace=True)\n",
        "data.MasVnrArea.isnull().sum()"
      ],
      "execution_count": 45,
      "outputs": [
        {
          "output_type": "execute_result",
          "data": {
            "text/plain": [
              "0"
            ]
          },
          "metadata": {
            "tags": []
          },
          "execution_count": 45
        }
      ]
    },
    {
      "cell_type": "markdown",
      "metadata": {
        "id": "FyPsPE6ggeOH",
        "colab_type": "text"
      },
      "source": [
        "For __GarageYrBlt__, a value of `NaN` probably means there's no garage. Lets check just to make sure by looking at the __GarageArea__ variable for every `NaN` value."
      ]
    },
    {
      "cell_type": "code",
      "metadata": {
        "id": "iVw3SkeWgeOI",
        "colab_type": "code",
        "colab": {
          "base_uri": "https://localhost:8080/",
          "height": 35
        },
        "outputId": "5ff9fa18-54cc-4537-96fa-26d8e40e766e"
      },
      "source": [
        "sum(data[\"GarageArea\"][data[\"GarageYrBlt\"].isnull()])"
      ],
      "execution_count": 46,
      "outputs": [
        {
          "output_type": "execute_result",
          "data": {
            "text/plain": [
              "0"
            ]
          },
          "metadata": {
            "tags": []
          },
          "execution_count": 46
        }
      ]
    },
    {
      "cell_type": "code",
      "metadata": {
        "id": "kVZhhyyTgeOK",
        "colab_type": "code",
        "colab": {}
      },
      "source": [
        "data[\"GarageYrBlt\"].fillna(0,inplace=True)"
      ],
      "execution_count": 0,
      "outputs": []
    },
    {
      "cell_type": "markdown",
      "metadata": {
        "id": "tY4DwWEtgeOM",
        "colab_type": "text"
      },
      "source": [
        "Finally, for __LotFrontage__ we assume that almost every lot has some frontage road so we don't want to set this to 0. There are more sophisticated solutions, but the simplest is just to find the median value and set the null values to it. "
      ]
    },
    {
      "cell_type": "code",
      "metadata": {
        "id": "VKHYU4vLgeOO",
        "colab_type": "code",
        "colab": {
          "base_uri": "https://localhost:8080/",
          "height": 35
        },
        "outputId": "879552c2-6deb-4ec7-8430-139c53050b0c"
      },
      "source": [
        "m = np.median((data[\"LotFrontage\"][data[\"LotFrontage\"].notnull()]))\n",
        "\n",
        "data[\"LotFrontage\"].fillna(m, inplace=True)\n",
        "data.MasVnrArea.isnull().sum()"
      ],
      "execution_count": 48,
      "outputs": [
        {
          "output_type": "execute_result",
          "data": {
            "text/plain": [
              "0"
            ]
          },
          "metadata": {
            "tags": []
          },
          "execution_count": 48
        }
      ]
    },
    {
      "cell_type": "markdown",
      "metadata": {
        "id": "qhCquJ_YgeOS",
        "colab_type": "text"
      },
      "source": [
        "Finally, lets check to make sure we've elemented all missing values."
      ]
    },
    {
      "cell_type": "code",
      "metadata": {
        "id": "wWGe_qYpgeOU",
        "colab_type": "code",
        "colab": {
          "base_uri": "https://localhost:8080/",
          "height": 35
        },
        "outputId": "6d3c8772-c96a-4a87-c7ec-9c87f11730fb"
      },
      "source": [
        "data.isnull().sum().sum()"
      ],
      "execution_count": 50,
      "outputs": [
        {
          "output_type": "execute_result",
          "data": {
            "text/plain": [
              "0"
            ]
          },
          "metadata": {
            "tags": []
          },
          "execution_count": 50
        }
      ]
    },
    {
      "cell_type": "markdown",
      "metadata": {
        "id": "5F4KtiwkgeOb",
        "colab_type": "text"
      },
      "source": [
        "### Cross validation and Fitting\n",
        "We now reestablish our train/test split"
      ]
    },
    {
      "cell_type": "code",
      "metadata": {
        "id": "Oo0GJRX_geOc",
        "colab_type": "code",
        "colab": {
          "base_uri": "https://localhost:8080/",
          "height": 52
        },
        "outputId": "dca97a2b-9a8c-4217-c490-fc15fdc1cc6c"
      },
      "source": [
        "Test_Size = 1000\n",
        "\n",
        "train=data.sample(n=Test_Size,replace=False)\n",
        "test=data.drop(train.index)\n",
        "\n",
        "print(\"Train Shape\", train.shape)\n",
        "print(\"Test Shape\", test.shape)\n",
        "\n",
        "X_train = train.drop(columns=['SalePrice','Id'])\n",
        "Y_train = train['SalePrice']\n",
        "\n",
        "X_test = test.drop(columns=['SalePrice','Id'])\n",
        "Y_test = test['SalePrice']"
      ],
      "execution_count": 51,
      "outputs": [
        {
          "output_type": "stream",
          "text": [
            "Train Shape (1000, 37)\n",
            "Test Shape (436, 37)\n"
          ],
          "name": "stdout"
        }
      ]
    },
    {
      "cell_type": "markdown",
      "metadata": {
        "id": "maceNEzsgeOf",
        "colab_type": "text"
      },
      "source": [
        "And train the data using statsmodels.api. Remember that we have to add a column to `X_train` to account for the constant term. Luckly, statsmodels has built in function for that `sm.add_constant(X_data)`"
      ]
    },
    {
      "cell_type": "code",
      "metadata": {
        "id": "2yhDMz7bgeOg",
        "colab_type": "code",
        "colab": {
          "base_uri": "https://localhost:8080/",
          "height": 1000
        },
        "outputId": "0eef0212-a7c2-4e9d-ffee-ff0687233b39"
      },
      "source": [
        "ols = sm.OLS(Y_train, sm.add_constant(X_train))\n",
        "ols_result = ols.fit()\n",
        "\n",
        "ols_result.summary()"
      ],
      "execution_count": 53,
      "outputs": [
        {
          "output_type": "stream",
          "text": [
            "/usr/local/lib/python3.6/dist-packages/numpy/core/fromnumeric.py:2495: FutureWarning: Method .ptp is deprecated and will be removed in a future version. Use numpy.ptp instead.\n",
            "  return ptp(axis=axis, out=out, **kwargs)\n"
          ],
          "name": "stderr"
        },
        {
          "output_type": "execute_result",
          "data": {
            "text/html": [
              "<table class=\"simpletable\">\n",
              "<caption>OLS Regression Results</caption>\n",
              "<tr>\n",
              "  <th>Dep. Variable:</th>        <td>SalePrice</td>    <th>  R-squared:         </th> <td>   0.879</td> \n",
              "</tr>\n",
              "<tr>\n",
              "  <th>Model:</th>                   <td>OLS</td>       <th>  Adj. R-squared:    </th> <td>   0.875</td> \n",
              "</tr>\n",
              "<tr>\n",
              "  <th>Method:</th>             <td>Least Squares</td>  <th>  F-statistic:       </th> <td>   213.1</td> \n",
              "</tr>\n",
              "<tr>\n",
              "  <th>Date:</th>             <td>Wed, 05 Feb 2020</td> <th>  Prob (F-statistic):</th>  <td>  0.00</td>  \n",
              "</tr>\n",
              "<tr>\n",
              "  <th>Time:</th>                 <td>04:53:32</td>     <th>  Log-Likelihood:    </th> <td> -11566.</td> \n",
              "</tr>\n",
              "<tr>\n",
              "  <th>No. Observations:</th>      <td>  1000</td>      <th>  AIC:               </th> <td>2.320e+04</td>\n",
              "</tr>\n",
              "<tr>\n",
              "  <th>Df Residuals:</th>          <td>   966</td>      <th>  BIC:               </th> <td>2.337e+04</td>\n",
              "</tr>\n",
              "<tr>\n",
              "  <th>Df Model:</th>              <td>    33</td>      <th>                     </th>     <td> </td>    \n",
              "</tr>\n",
              "<tr>\n",
              "  <th>Covariance Type:</th>      <td>nonrobust</td>    <th>                     </th>     <td> </td>    \n",
              "</tr>\n",
              "</table>\n",
              "<table class=\"simpletable\">\n",
              "<tr>\n",
              "        <td></td>           <th>coef</th>     <th>std err</th>      <th>t</th>      <th>P>|t|</th>  <th>[0.025</th>    <th>0.975]</th>  \n",
              "</tr>\n",
              "<tr>\n",
              "  <th>const</th>         <td> 1.999e+05</td> <td> 1.27e+06</td> <td>    0.157</td> <td> 0.875</td> <td> -2.3e+06</td> <td>  2.7e+06</td>\n",
              "</tr>\n",
              "<tr>\n",
              "  <th>LotFrontage</th>   <td>   96.5505</td> <td>   47.631</td> <td>    2.027</td> <td> 0.043</td> <td>    3.078</td> <td>  190.023</td>\n",
              "</tr>\n",
              "<tr>\n",
              "  <th>LotArea</th>       <td>    0.6328</td> <td>    0.088</td> <td>    7.176</td> <td> 0.000</td> <td>    0.460</td> <td>    0.806</td>\n",
              "</tr>\n",
              "<tr>\n",
              "  <th>OverallQual</th>   <td> 1.346e+04</td> <td> 1072.539</td> <td>   12.552</td> <td> 0.000</td> <td> 1.14e+04</td> <td> 1.56e+04</td>\n",
              "</tr>\n",
              "<tr>\n",
              "  <th>OverallCond</th>   <td> 4823.8093</td> <td>  915.780</td> <td>    5.267</td> <td> 0.000</td> <td> 3026.662</td> <td> 6620.957</td>\n",
              "</tr>\n",
              "<tr>\n",
              "  <th>YearBuilt</th>     <td>  361.3955</td> <td>   56.343</td> <td>    6.414</td> <td> 0.000</td> <td>  250.827</td> <td>  471.964</td>\n",
              "</tr>\n",
              "<tr>\n",
              "  <th>YearRemodAdd</th>  <td>  175.9698</td> <td>   59.432</td> <td>    2.961</td> <td> 0.003</td> <td>   59.339</td> <td>  292.601</td>\n",
              "</tr>\n",
              "<tr>\n",
              "  <th>MasVnrArea</th>    <td>   15.0193</td> <td>    5.579</td> <td>    2.692</td> <td> 0.007</td> <td>    4.072</td> <td>   25.967</td>\n",
              "</tr>\n",
              "<tr>\n",
              "  <th>BsmtFinSF1</th>    <td>   22.8525</td> <td>    2.384</td> <td>    9.587</td> <td> 0.000</td> <td>   18.175</td> <td>   27.530</td>\n",
              "</tr>\n",
              "<tr>\n",
              "  <th>BsmtFinSF2</th>    <td>    1.0526</td> <td>    4.037</td> <td>    0.261</td> <td> 0.794</td> <td>   -6.870</td> <td>    8.975</td>\n",
              "</tr>\n",
              "<tr>\n",
              "  <th>BsmtUnfSF</th>     <td>   -1.8584</td> <td>    2.167</td> <td>   -0.858</td> <td> 0.391</td> <td>   -6.111</td> <td>    2.394</td>\n",
              "</tr>\n",
              "<tr>\n",
              "  <th>TotalBsmtSF</th>   <td>   22.0467</td> <td>    3.030</td> <td>    7.275</td> <td> 0.000</td> <td>   16.100</td> <td>   27.994</td>\n",
              "</tr>\n",
              "<tr>\n",
              "  <th>1stFlrSF</th>      <td>   26.1049</td> <td>    5.885</td> <td>    4.436</td> <td> 0.000</td> <td>   14.557</td> <td>   37.653</td>\n",
              "</tr>\n",
              "<tr>\n",
              "  <th>2ndFlrSF</th>      <td>   27.3533</td> <td>    5.534</td> <td>    4.943</td> <td> 0.000</td> <td>   16.494</td> <td>   38.213</td>\n",
              "</tr>\n",
              "<tr>\n",
              "  <th>LowQualFinSF</th>  <td>  -28.6031</td> <td>   14.879</td> <td>   -1.922</td> <td> 0.055</td> <td>  -57.803</td> <td>    0.596</td>\n",
              "</tr>\n",
              "<tr>\n",
              "  <th>GrLivArea</th>     <td>   24.8550</td> <td>    5.749</td> <td>    4.323</td> <td> 0.000</td> <td>   13.572</td> <td>   36.138</td>\n",
              "</tr>\n",
              "<tr>\n",
              "  <th>BsmtFullBath</th>  <td>-1160.0168</td> <td> 2342.554</td> <td>   -0.495</td> <td> 0.621</td> <td>-5757.099</td> <td> 3437.065</td>\n",
              "</tr>\n",
              "<tr>\n",
              "  <th>BsmtHalfBath</th>  <td>-7978.2337</td> <td> 3727.037</td> <td>   -2.141</td> <td> 0.033</td> <td>-1.53e+04</td> <td> -664.211</td>\n",
              "</tr>\n",
              "<tr>\n",
              "  <th>FullBath</th>      <td>-2155.2659</td> <td> 2576.850</td> <td>   -0.836</td> <td> 0.403</td> <td>-7212.136</td> <td> 2901.604</td>\n",
              "</tr>\n",
              "<tr>\n",
              "  <th>HalfBath</th>      <td>-2773.8957</td> <td> 2450.202</td> <td>   -1.132</td> <td> 0.258</td> <td>-7582.228</td> <td> 2034.437</td>\n",
              "</tr>\n",
              "<tr>\n",
              "  <th>BedroomAbvGr</th>  <td>-1.113e+04</td> <td> 1558.082</td> <td>   -7.144</td> <td> 0.000</td> <td>-1.42e+04</td> <td>-8072.607</td>\n",
              "</tr>\n",
              "<tr>\n",
              "  <th>KitchenAbvGr</th>  <td>-2.545e+04</td> <td> 4276.747</td> <td>   -5.951</td> <td> 0.000</td> <td>-3.38e+04</td> <td>-1.71e+04</td>\n",
              "</tr>\n",
              "<tr>\n",
              "  <th>TotRmsAbvGrd</th>  <td> 5121.1393</td> <td> 1147.343</td> <td>    4.463</td> <td> 0.000</td> <td> 2869.566</td> <td> 7372.712</td>\n",
              "</tr>\n",
              "<tr>\n",
              "  <th>Fireplaces</th>    <td> 3781.8052</td> <td> 1585.681</td> <td>    2.385</td> <td> 0.017</td> <td>  670.028</td> <td> 6893.582</td>\n",
              "</tr>\n",
              "<tr>\n",
              "  <th>GarageYrBlt</th>   <td>  -12.8802</td> <td>    2.359</td> <td>   -5.460</td> <td> 0.000</td> <td>  -17.509</td> <td>   -8.251</td>\n",
              "</tr>\n",
              "<tr>\n",
              "  <th>GarageCars</th>    <td> 5107.5322</td> <td> 2784.709</td> <td>    1.834</td> <td> 0.067</td> <td> -357.244</td> <td> 1.06e+04</td>\n",
              "</tr>\n",
              "<tr>\n",
              "  <th>GarageArea</th>    <td>   33.5836</td> <td>    9.190</td> <td>    3.654</td> <td> 0.000</td> <td>   15.549</td> <td>   51.618</td>\n",
              "</tr>\n",
              "<tr>\n",
              "  <th>WoodDeckSF</th>    <td>   15.7433</td> <td>    7.391</td> <td>    2.130</td> <td> 0.033</td> <td>    1.239</td> <td>   30.248</td>\n",
              "</tr>\n",
              "<tr>\n",
              "  <th>OpenPorchSF</th>   <td>   13.4388</td> <td>   13.816</td> <td>    0.973</td> <td> 0.331</td> <td>  -13.673</td> <td>   40.551</td>\n",
              "</tr>\n",
              "<tr>\n",
              "  <th>EnclosedPorch</th> <td>   10.7216</td> <td>   15.093</td> <td>    0.710</td> <td> 0.478</td> <td>  -18.896</td> <td>   40.340</td>\n",
              "</tr>\n",
              "<tr>\n",
              "  <th>3SsnPorch</th>     <td>   14.2336</td> <td>   31.615</td> <td>    0.450</td> <td> 0.653</td> <td>  -47.808</td> <td>   76.275</td>\n",
              "</tr>\n",
              "<tr>\n",
              "  <th>ScreenPorch</th>   <td>   36.9214</td> <td>   16.245</td> <td>    2.273</td> <td> 0.023</td> <td>    5.043</td> <td>   68.800</td>\n",
              "</tr>\n",
              "<tr>\n",
              "  <th>PoolArea</th>      <td>    3.3361</td> <td>   22.780</td> <td>    0.146</td> <td> 0.884</td> <td>  -41.368</td> <td>   48.041</td>\n",
              "</tr>\n",
              "<tr>\n",
              "  <th>MiscVal</th>       <td>   -3.2825</td> <td>    2.519</td> <td>   -1.303</td> <td> 0.193</td> <td>   -8.226</td> <td>    1.661</td>\n",
              "</tr>\n",
              "<tr>\n",
              "  <th>MoSold</th>        <td>  296.3910</td> <td>  309.085</td> <td>    0.959</td> <td> 0.338</td> <td> -310.164</td> <td>  902.946</td>\n",
              "</tr>\n",
              "<tr>\n",
              "  <th>YrSold</th>        <td> -643.2476</td> <td>  633.425</td> <td>   -1.016</td> <td> 0.310</td> <td>-1886.296</td> <td>  599.801</td>\n",
              "</tr>\n",
              "</table>\n",
              "<table class=\"simpletable\">\n",
              "<tr>\n",
              "  <th>Omnibus:</th>       <td>120.234</td> <th>  Durbin-Watson:     </th> <td>   2.074</td> \n",
              "</tr>\n",
              "<tr>\n",
              "  <th>Prob(Omnibus):</th> <td> 0.000</td>  <th>  Jarque-Bera (JB):  </th> <td> 674.493</td> \n",
              "</tr>\n",
              "<tr>\n",
              "  <th>Skew:</th>          <td> 0.384</td>  <th>  Prob(JB):          </th> <td>3.43e-147</td>\n",
              "</tr>\n",
              "<tr>\n",
              "  <th>Kurtosis:</th>      <td> 6.950</td>  <th>  Cond. No.          </th> <td>1.33e+16</td> \n",
              "</tr>\n",
              "</table><br/><br/>Warnings:<br/>[1] Standard Errors assume that the covariance matrix of the errors is correctly specified.<br/>[2] The smallest eigenvalue is 1.28e-21. This might indicate that there are<br/>strong multicollinearity problems or that the design matrix is singular."
            ],
            "text/plain": [
              "<class 'statsmodels.iolib.summary.Summary'>\n",
              "\"\"\"\n",
              "                            OLS Regression Results                            \n",
              "==============================================================================\n",
              "Dep. Variable:              SalePrice   R-squared:                       0.879\n",
              "Model:                            OLS   Adj. R-squared:                  0.875\n",
              "Method:                 Least Squares   F-statistic:                     213.1\n",
              "Date:                Wed, 05 Feb 2020   Prob (F-statistic):               0.00\n",
              "Time:                        04:53:32   Log-Likelihood:                -11566.\n",
              "No. Observations:                1000   AIC:                         2.320e+04\n",
              "Df Residuals:                     966   BIC:                         2.337e+04\n",
              "Df Model:                          33                                         \n",
              "Covariance Type:            nonrobust                                         \n",
              "=================================================================================\n",
              "                    coef    std err          t      P>|t|      [0.025      0.975]\n",
              "---------------------------------------------------------------------------------\n",
              "const          1.999e+05   1.27e+06      0.157      0.875    -2.3e+06     2.7e+06\n",
              "LotFrontage      96.5505     47.631      2.027      0.043       3.078     190.023\n",
              "LotArea           0.6328      0.088      7.176      0.000       0.460       0.806\n",
              "OverallQual    1.346e+04   1072.539     12.552      0.000    1.14e+04    1.56e+04\n",
              "OverallCond    4823.8093    915.780      5.267      0.000    3026.662    6620.957\n",
              "YearBuilt       361.3955     56.343      6.414      0.000     250.827     471.964\n",
              "YearRemodAdd    175.9698     59.432      2.961      0.003      59.339     292.601\n",
              "MasVnrArea       15.0193      5.579      2.692      0.007       4.072      25.967\n",
              "BsmtFinSF1       22.8525      2.384      9.587      0.000      18.175      27.530\n",
              "BsmtFinSF2        1.0526      4.037      0.261      0.794      -6.870       8.975\n",
              "BsmtUnfSF        -1.8584      2.167     -0.858      0.391      -6.111       2.394\n",
              "TotalBsmtSF      22.0467      3.030      7.275      0.000      16.100      27.994\n",
              "1stFlrSF         26.1049      5.885      4.436      0.000      14.557      37.653\n",
              "2ndFlrSF         27.3533      5.534      4.943      0.000      16.494      38.213\n",
              "LowQualFinSF    -28.6031     14.879     -1.922      0.055     -57.803       0.596\n",
              "GrLivArea        24.8550      5.749      4.323      0.000      13.572      36.138\n",
              "BsmtFullBath  -1160.0168   2342.554     -0.495      0.621   -5757.099    3437.065\n",
              "BsmtHalfBath  -7978.2337   3727.037     -2.141      0.033   -1.53e+04    -664.211\n",
              "FullBath      -2155.2659   2576.850     -0.836      0.403   -7212.136    2901.604\n",
              "HalfBath      -2773.8957   2450.202     -1.132      0.258   -7582.228    2034.437\n",
              "BedroomAbvGr  -1.113e+04   1558.082     -7.144      0.000   -1.42e+04   -8072.607\n",
              "KitchenAbvGr  -2.545e+04   4276.747     -5.951      0.000   -3.38e+04   -1.71e+04\n",
              "TotRmsAbvGrd   5121.1393   1147.343      4.463      0.000    2869.566    7372.712\n",
              "Fireplaces     3781.8052   1585.681      2.385      0.017     670.028    6893.582\n",
              "GarageYrBlt     -12.8802      2.359     -5.460      0.000     -17.509      -8.251\n",
              "GarageCars     5107.5322   2784.709      1.834      0.067    -357.244    1.06e+04\n",
              "GarageArea       33.5836      9.190      3.654      0.000      15.549      51.618\n",
              "WoodDeckSF       15.7433      7.391      2.130      0.033       1.239      30.248\n",
              "OpenPorchSF      13.4388     13.816      0.973      0.331     -13.673      40.551\n",
              "EnclosedPorch    10.7216     15.093      0.710      0.478     -18.896      40.340\n",
              "3SsnPorch        14.2336     31.615      0.450      0.653     -47.808      76.275\n",
              "ScreenPorch      36.9214     16.245      2.273      0.023       5.043      68.800\n",
              "PoolArea          3.3361     22.780      0.146      0.884     -41.368      48.041\n",
              "MiscVal          -3.2825      2.519     -1.303      0.193      -8.226       1.661\n",
              "MoSold          296.3910    309.085      0.959      0.338    -310.164     902.946\n",
              "YrSold         -643.2476    633.425     -1.016      0.310   -1886.296     599.801\n",
              "==============================================================================\n",
              "Omnibus:                      120.234   Durbin-Watson:                   2.074\n",
              "Prob(Omnibus):                  0.000   Jarque-Bera (JB):              674.493\n",
              "Skew:                           0.384   Prob(JB):                    3.43e-147\n",
              "Kurtosis:                       6.950   Cond. No.                     1.33e+16\n",
              "==============================================================================\n",
              "\n",
              "Warnings:\n",
              "[1] Standard Errors assume that the covariance matrix of the errors is correctly specified.\n",
              "[2] The smallest eigenvalue is 1.28e-21. This might indicate that there are\n",
              "strong multicollinearity problems or that the design matrix is singular.\n",
              "\"\"\""
            ]
          },
          "metadata": {
            "tags": []
          },
          "execution_count": 53
        }
      ]
    },
    {
      "cell_type": "markdown",
      "metadata": {
        "id": "DXmJ25lbgeOi",
        "colab_type": "text"
      },
      "source": [
        "Now we want to score this model on test data. Unfortunently statsmodels.api doesn't have a built in test function, but we can use our own pretty easily. "
      ]
    },
    {
      "cell_type": "code",
      "metadata": {
        "id": "7YRDwmANgeOk",
        "colab_type": "code",
        "colab": {}
      },
      "source": [
        "def RSS(y,Y):\n",
        "    y = np.matrix(y).reshape(-1,1)\n",
        "    Y = np.matrix(Y).reshape(-1,1)\n",
        "    \n",
        "    return (y-Y).T*(y-Y)\n",
        "\n",
        "def RMS(y,Y):    \n",
        "    return np.sqrt(RSS(y,Y))/len(y)\n",
        "\n",
        "def Rs(y,Y): \n",
        "    y = np.matrix(y).reshape(-1,1)\n",
        "    Y = np.matrix(Y).reshape(-1,1)\n",
        "    \n",
        "    return 1 - RSS(y,Y)/((Y - np.mean(Y)).T*(Y - Y.mean()))"
      ],
      "execution_count": 0,
      "outputs": []
    },
    {
      "cell_type": "code",
      "metadata": {
        "id": "AcA-Yp-7geOo",
        "colab_type": "code",
        "colab": {
          "base_uri": "https://localhost:8080/",
          "height": 89
        },
        "outputId": "aeec4057-a607-45d1-ce9d-cca6ea30d5f2"
      },
      "source": [
        "pred = ols_result.predict(sm.add_constant(X_test))\n",
        "Rs(pred, Y_test)\n",
        "#RMS(pred, Y_test)"
      ],
      "execution_count": 68,
      "outputs": [
        {
          "output_type": "stream",
          "text": [
            "/usr/local/lib/python3.6/dist-packages/numpy/core/fromnumeric.py:2495: FutureWarning: Method .ptp is deprecated and will be removed in a future version. Use numpy.ptp instead.\n",
            "  return ptp(axis=axis, out=out, **kwargs)\n"
          ],
          "name": "stderr"
        },
        {
          "output_type": "execute_result",
          "data": {
            "text/plain": [
              "matrix([[0.84699385]])"
            ]
          },
          "metadata": {
            "tags": []
          },
          "execution_count": 68
        }
      ]
    },
    {
      "cell_type": "markdown",
      "metadata": {
        "id": "ci8B4JX1geOr",
        "colab_type": "text"
      },
      "source": [
        "## Ridge Regression and Lasso Regression\n",
        "\n",
        "Now that we have a baseline, we try out our new methods. We will look at ridge regression and lasso regression first, since they implemented in OLS. \n",
        "\n",
        "A `statsmodel.api.ols` object has a regularized regression fit function `ols.fit_regualrized()` that implements both lasso and ridge regression. In fact, it minimizes the loss function\n",
        "\n",
        "$$\n",
        "\\textbf{Loss}(\\beta) = \\frac{1}{2n}\\textbf{RSS} + \\alpha\\left(\\frac{(1-\\lambda)}{2}\\sum_i \\beta_i^2 + \\lambda\\sum_i|\\beta_i|\\right)\n",
        "$$\n",
        "\n",
        "In ridge regression, $\\lambda = 0$ and so we are minimizing $RSS(\\beta)$ subject to the additional constrain that $||\\beta||^2$ is small. For a fixed value of the constraint $||\\beta||^2 = R$, the $\\beta$'s are constrained to a sphere. \n",
        "\n",
        "The addition of the lasso regression condition leads to a non-smoothness around the axes for the $\\beta$ constraint. These two terms are both examples of __regulators__, and will be discussed more in class. \n",
        "\n",
        "\n",
        "This linear combination of loss functions is known as __elastic net regression__. For a little demo of the interpolation between the bounded regions for the variables take a look at this Desmos applet: The applet shows how the shape of the possible $\\beta_i$ change for a fixed value of the regulator given different $\\lambda$ and $\\alpha$.  In the demo, $a$ is the $\\alpha$ variable and $b$ is the $\\lambda$ variable. \n",
        "\n",
        "https://www.desmos.com/calculator/a4a6qgitr7\n",
        "\n",
        "\n",
        "The `ols.fit_regualrized()` takes the following form, where $\\lambda$ is `L1_wt`:\n",
        "\n",
        "* `OLS.fit_regularized(alpha=0.0, L1_wt=1.0, start_params=None)` Here, `alpha` is the overall weight $\\alpha$ and `L1_wt` is the coefficient of the $L_1$ norm. "
      ]
    },
    {
      "cell_type": "markdown",
      "metadata": {
        "id": "ahHPhYSVgeOr",
        "colab_type": "text"
      },
      "source": [
        "## Ridge Regression\n",
        "\n",
        "First, lets compute the ridge regression. Note that not all of the functionality has been added to statsmodels.api's OLS class yet. In particular, summary doesn't work. But we can still compute $r^2$ values on the test set using the functions we defined above. Pick a value at random, let's compute with "
      ]
    },
    {
      "cell_type": "code",
      "metadata": {
        "id": "96rsDlHggeOs",
        "colab_type": "code",
        "colab": {}
      },
      "source": [
        "ols = sm.OLS(Y_train, sm.add_constant(X_train))\n",
        "ols_result = ols.fit_regularized(L1_wt=0,alpha=1)\n",
        "\n",
        "Rs(ols_result.predict(sm.add_constant(X_test)),Y_test)"
      ],
      "execution_count": 0,
      "outputs": []
    },
    {
      "cell_type": "markdown",
      "metadata": {
        "id": "Oc0SzOS_geOw",
        "colab_type": "text"
      },
      "source": [
        "We're probably already doing worse than expected. Lets predict for 50 $\\alpha$ values from 0 to 1. We will save the $r^2$ value in in a list, by creating an empty list and appending each value into it. "
      ]
    },
    {
      "cell_type": "code",
      "metadata": {
        "id": "iJrYKQwIgeOw",
        "colab_type": "code",
        "colab": {
          "base_uri": "https://localhost:8080/",
          "height": 939
        },
        "outputId": "0de1eaa3-bffc-466e-eb1f-42431a5db6d3"
      },
      "source": [
        "r_sqds = []\n",
        "alphas = np.linspace(0,.1,50)\n",
        "\n",
        "for alp in alphas:\n",
        "    ols = sm.OLS(Y_train, sm.add_constant(X_train))\n",
        "    ols_result = ols.fit_regularized(L1_wt=0,alpha=alp)\n",
        "\n",
        "    r_sqds.append(Rs(ols_result.predict(sm.add_constant(X_test)),Y_test).A1)\n",
        "r_sqds"
      ],
      "execution_count": 66,
      "outputs": [
        {
          "output_type": "stream",
          "text": [
            "/usr/local/lib/python3.6/dist-packages/numpy/core/fromnumeric.py:2495: FutureWarning: Method .ptp is deprecated and will be removed in a future version. Use numpy.ptp instead.\n",
            "  return ptp(axis=axis, out=out, **kwargs)\n"
          ],
          "name": "stderr"
        },
        {
          "output_type": "execute_result",
          "data": {
            "text/plain": [
              "[array([0.85108733]),\n",
              " array([0.8512626]),\n",
              " array([0.85126628]),\n",
              " array([0.8512465]),\n",
              " array([0.85120854]),\n",
              " array([0.85115641]),\n",
              " array([0.85109319]),\n",
              " array([0.85102126]),\n",
              " array([0.85094247]),\n",
              " array([0.85085828]),\n",
              " array([0.85076985]),\n",
              " array([0.85067808]),\n",
              " array([0.85058372]),\n",
              " array([0.85048735]),\n",
              " array([0.85038944]),\n",
              " array([0.85029038]),\n",
              " array([0.85019048]),\n",
              " array([0.85008999]),\n",
              " array([0.84998912]),\n",
              " array([0.84988802]),\n",
              " array([0.84978684]),\n",
              " array([0.84968569]),\n",
              " array([0.84958465]),\n",
              " array([0.84948379]),\n",
              " array([0.84938318]),\n",
              " array([0.84928285]),\n",
              " array([0.84918285]),\n",
              " array([0.84908321]),\n",
              " array([0.84898395]),\n",
              " array([0.84888507]),\n",
              " array([0.84878661]),\n",
              " array([0.84868856]),\n",
              " array([0.84859093]),\n",
              " array([0.84849372]),\n",
              " array([0.84839694]),\n",
              " array([0.84830059]),\n",
              " array([0.84820466]),\n",
              " array([0.84810914]),\n",
              " array([0.84801405]),\n",
              " array([0.84791936]),\n",
              " array([0.84782508]),\n",
              " array([0.8477312]),\n",
              " array([0.84763772]),\n",
              " array([0.84754462]),\n",
              " array([0.84745191]),\n",
              " array([0.84735957]),\n",
              " array([0.8472676]),\n",
              " array([0.847176]),\n",
              " array([0.84708475]),\n",
              " array([0.84699385])]"
            ]
          },
          "metadata": {
            "tags": []
          },
          "execution_count": 66
        }
      ]
    },
    {
      "cell_type": "code",
      "metadata": {
        "id": "7xl81-nlgeO1",
        "colab_type": "code",
        "colab": {
          "base_uri": "https://localhost:8080/",
          "height": 300
        },
        "outputId": "15d8cc34-2895-4b53-e10b-44f15c9a3d94"
      },
      "source": [
        "print(np.max(r_sqds))\n",
        "plt.plot(alphas, r_sqds)"
      ],
      "execution_count": 69,
      "outputs": [
        {
          "output_type": "stream",
          "text": [
            "0.8512662819804722\n"
          ],
          "name": "stdout"
        },
        {
          "output_type": "execute_result",
          "data": {
            "text/plain": [
              "[<matplotlib.lines.Line2D at 0x7fea23673978>]"
            ]
          },
          "metadata": {
            "tags": []
          },
          "execution_count": 69
        },
        {
          "output_type": "display_data",
          "data": {
            "image/png": "[encoded data removed]",
            "text/plain": [
              "<Figure size 432x288 with 1 Axes>"
            ]
          },
          "metadata": {
            "tags": []
          }
        }
      ]
    },
    {
      "cell_type": "markdown",
      "metadata": {
        "id": "v21gjQ0ZgeO2",
        "colab_type": "text"
      },
      "source": [
        "If we add a few lines of code to save the $\\hat \\beta$ values at each iteration, you can plot them again eachother. Of course, the vast difference in $\\hat \\beta$ values we saw in the ordinary linear regression model indicates that they wont be very meaningful on the same graph (the largest are on the order of $10^6$, the smallest on the order of $10^{-1}$). \n",
        "\n",
        "The simplest way to overcome this, if we are just intersted in the dynmics of the varaibles, is to normalize the largest $|\\beta_i^{\\alpha}|$ to 1 for each feature. This can be done by dividing by the max of the absolute value. "
      ]
    },
    {
      "cell_type": "code",
      "metadata": {
        "id": "NeeffuiBgeO3",
        "colab_type": "code",
        "colab": {
          "base_uri": "https://localhost:8080/",
          "height": 72
        },
        "outputId": "5749e46b-74a5-4283-91a3-cddbef432dff"
      },
      "source": [
        "r_sqds = []\n",
        "betas = pd.DataFrame(columns=[\"Coeff\"]+list(X_train))\n",
        "alphas = np.linspace(0,.1,50)\n",
        "\n",
        "for alp in alphas:\n",
        "    ols = sm.OLS(Y_train, sm.add_constant(X_train))\n",
        "    ols_result = ols.fit_regularized(L1_wt=0,alpha=alp)\n",
        "\n",
        "    r_sqds.append(Rs(ols_result.predict(sm.add_constant(X_test)),Y_test).A1)\n",
        "    beta = pd.DataFrame(ols_result.params.reshape(1,-1),columns=[\"Coeff\"]+list(X_train))\n",
        "    betas = betas.append(beta)"
      ],
      "execution_count": 70,
      "outputs": [
        {
          "output_type": "stream",
          "text": [
            "/usr/local/lib/python3.6/dist-packages/numpy/core/fromnumeric.py:2495: FutureWarning: Method .ptp is deprecated and will be removed in a future version. Use numpy.ptp instead.\n",
            "  return ptp(axis=axis, out=out, **kwargs)\n"
          ],
          "name": "stderr"
        }
      ]
    },
    {
      "cell_type": "code",
      "metadata": {
        "id": "sUx6hcqUgeO6",
        "colab_type": "code",
        "colab": {
          "base_uri": "https://localhost:8080/",
          "height": 597
        },
        "outputId": "d0babadf-7d05-45e8-b3c7-bdb940d62f09"
      },
      "source": [
        "f, axes = plt.subplots()\n",
        "f.set_size_inches(14,8)\n",
        "\n",
        "plt.plot(alphas,betas/betas.abs().max())\n",
        "plt.legend([\"Coeff\"]+list(X_train))"
      ],
      "execution_count": 71,
      "outputs": [
        {
          "output_type": "execute_result",
          "data": {
            "text/plain": [
              "<matplotlib.legend.Legend at 0x7fea20799dd8>"
            ]
          },
          "metadata": {
            "tags": []
          },
          "execution_count": 71
        },
        {
          "output_type": "display_data",
          "data": {
            "image/png": "[encoded data removed]",
            "text/plain": [
              "<Figure size 1008x576 with 1 Axes>"
            ]
          },
          "metadata": {
            "tags": []
          }
        }
      ]
    },
    {
      "cell_type": "code",
      "metadata": {
        "id": "E1B4Ek4pgeO9",
        "colab_type": "code",
        "colab": {}
      },
      "source": [
        ""
      ],
      "execution_count": 0,
      "outputs": []
    },
    {
      "cell_type": "code",
      "metadata": {
        "id": "PybbaQldgeO_",
        "colab_type": "code",
        "colab": {}
      },
      "source": [
        ""
      ],
      "execution_count": 0,
      "outputs": []
    },
    {
      "cell_type": "markdown",
      "metadata": {
        "id": "CV9V_j6rgePA",
        "colab_type": "text"
      },
      "source": [
        "## Lasso Regression\n",
        "\n",
        "To compute the Lasso regression we can recycle our code from above, but now we set `L1_wt=1`, turning off the ridge parameters and turning of the Lasso. We will also have to modify our $alpha$ values since the $\\beta$ are penalized much less for being large. "
      ]
    },
    {
      "cell_type": "code",
      "metadata": {
        "id": "x7DLqNdKgePA",
        "colab_type": "code",
        "colab": {}
      },
      "source": [
        ""
      ],
      "execution_count": 0,
      "outputs": []
    },
    {
      "cell_type": "code",
      "metadata": {
        "id": "W6AHFRzngePC",
        "colab_type": "code",
        "colab": {
          "base_uri": "https://localhost:8080/",
          "height": 72
        },
        "outputId": "10d7826c-f778-409d-fd32-d6f333c74bd8"
      },
      "source": [
        "r_sqds = []\n",
        "rss_s = []\n",
        "betas = pd.DataFrame(columns=[\"Coeff\"]+list(X_train))\n",
        "alphas = np.linspace(600,1200,20)\n",
        "\n",
        "for alp in alphas:\n",
        "    ols = sm.OLS(Y_train, sm.add_constant(X_train))\n",
        "    ols_result = ols.fit_regularized(L1_wt=1,alpha=alp)\n",
        "\n",
        "    r_sqds.append(Rs(ols_result.predict(sm.add_constant(X_test)),Y_test).A1)\n",
        "    rss_s.append(RMS(ols_result.predict(sm.add_constant(X_test)),Y_test).A1)\n",
        "    beta = pd.DataFrame(np.array(ols_result.params).reshape(1,-1),columns=[\"Coeff\"]+list(X_train))\n",
        "    betas = betas.append(beta)"
      ],
      "execution_count": 74,
      "outputs": [
        {
          "output_type": "stream",
          "text": [
            "/usr/local/lib/python3.6/dist-packages/numpy/core/fromnumeric.py:2495: FutureWarning: Method .ptp is deprecated and will be removed in a future version. Use numpy.ptp instead.\n",
            "  return ptp(axis=axis, out=out, **kwargs)\n"
          ],
          "name": "stderr"
        }
      ]
    },
    {
      "cell_type": "code",
      "metadata": {
        "id": "K62dIPFUgePE",
        "colab_type": "code",
        "colab": {
          "base_uri": "https://localhost:8080/",
          "height": 317
        },
        "outputId": "0eef7085-32b1-4042-e5b3-c70925922be0"
      },
      "source": [
        "print(np.max(r_sqds))\n",
        "print(np.max(rss_s))\n",
        "plt.plot(alphas, r_sqds)"
      ],
      "execution_count": 73,
      "outputs": [
        {
          "output_type": "stream",
          "text": [
            "0.8237043475478465\n",
            "1371.7664076788749\n"
          ],
          "name": "stdout"
        },
        {
          "output_type": "execute_result",
          "data": {
            "text/plain": [
              "[<matplotlib.lines.Line2D at 0x7fea1ee0e748>]"
            ]
          },
          "metadata": {
            "tags": []
          },
          "execution_count": 73
        },
        {
          "output_type": "display_data",
          "data": {
            "image/png": "[encoded data removed]",
            "text/plain": [
              "<Figure size 432x288 with 1 Axes>"
            ]
          },
          "metadata": {
            "tags": []
          }
        }
      ]
    },
    {
      "cell_type": "code",
      "metadata": {
        "scrolled": true,
        "id": "Say0oG-9gePF",
        "colab_type": "code",
        "colab": {
          "base_uri": "https://localhost:8080/",
          "height": 597
        },
        "outputId": "81d154eb-91ff-47c8-a0c3-7caa705ab670"
      },
      "source": [
        "f, axes = plt.subplots()\n",
        "f.set_size_inches(14,8)\n",
        "\n",
        "plt.plot(alphas,betas/betas.abs().max())\n",
        "plt.legend([\"Coeff\"]+list(X_train))"
      ],
      "execution_count": 75,
      "outputs": [
        {
          "output_type": "execute_result",
          "data": {
            "text/plain": [
              "<matplotlib.legend.Legend at 0x7fea1edc9c88>"
            ]
          },
          "metadata": {
            "tags": []
          },
          "execution_count": 75
        },
        {
          "output_type": "display_data",
          "data": {
            "image/png": "[encoded data removed]",
            "text/plain": [
              "<Figure size 1008x576 with 1 Axes>"
            ]
          },
          "metadata": {
            "tags": []
          }
        }
      ]
    },
    {
      "cell_type": "markdown",
      "metadata": {
        "id": "cttFup2VgePH",
        "colab_type": "text"
      },
      "source": [
        "# Subset Selection:\n",
        "\n",
        "We will implement subset selection algorithms. Before we could lean on built in libraries, but we will now have to implement the algorithms ourself. Luckily, subset selection is a relatively straight forward idea. \n",
        "\n",
        "## Forward subset selection:\n",
        "\n",
        "We will begin with forward subset selection using the $r^2$ value. The idea is to greedily add variables to our fitting, starting with the best single variable predictor and adding new variables one at a time. \n",
        "\n",
        "We will implement a function that returns the best predictor to add to a list of preselected predictors. This function will take the form\n",
        "\n",
        "* `best_predict(inc, X_train, Y_train)` Return the single feature which improves the $r^2$ score the most. Here, `inc` is a list of predictors that we have already included.\n",
        "\n",
        "Our `best_predict` function will be laid out as follows:\n",
        "\n",
        "* First, get a list of columns in `X_train` that are no in already in `inc`.\n",
        "* Set up lists to hold the column names, and the $r^2$ value of the model after adding each new column.\n",
        "* Loop of the features found in the first step. For each feature `p`:\n",
        "* * Fit a linear model to the features in `inc` and the feature `p`.\n",
        "* * Score the model on the test data.\n",
        "* * Append the feature name to the Columns list and append the computed $r^2$ value to the list of $r^2$ values. \n",
        "* After running the loop above, we get the index of the maximum $r^2$ value computed above. This will correspond to the list of features with the biggest improvement. \n",
        "* Return the maximum $r^2$ value, along with the list of features. \n",
        "\n",
        "We can then call this function iteratively, feeding the input of the previous run into the next run. "
      ]
    },
    {
      "cell_type": "code",
      "metadata": {
        "id": "83H2YuS8gePH",
        "colab_type": "code",
        "colab": {}
      },
      "source": [
        "def best_predict(inc, X_train, Y_train, X_test,Y_test):\n",
        "    rem_pred = [p for p in X_train.columns if p not in inc]\n",
        "    \n",
        "    RSquared = []\n",
        "    Columns = []\n",
        "    \n",
        "    for p in rem_pred:\n",
        "        olst = sm.OLS(Y_train, sm.add_constant(X_train[inc+[p]]))\n",
        "        olst_result = olst.fit()    \n",
        "        \n",
        "        R_sq = Rs(olst_result.predict(sm.add_constant(X_test[inc+[p]])),Y_test)\n",
        "        \n",
        "        RSquared.append(R_sq)\n",
        "        Columns.append(inc+[p])\n",
        "        \n",
        "    z = RSquared.index(max(RSquared))\n",
        "    print(\"Maximum r^2\", RSquared[z])\n",
        "    print(\"Columns\", Columns[z])\n",
        "    \n",
        "    return([float(RSquared[z]),Columns[z]])"
      ],
      "execution_count": 0,
      "outputs": []
    },
    {
      "cell_type": "code",
      "metadata": {
        "scrolled": true,
        "id": "F7IeUw43gePJ",
        "colab_type": "code",
        "outputId": "6e434984-da63-423f-bcc1-26a7ce618c2b",
        "colab": {
          "base_uri": "https://localhost:8080/",
          "height": 1000
        }
      },
      "source": [
        "varlist = []\n",
        "r_list = []\n",
        "\n",
        "for i in range(0,20):\n",
        "    r,varlist = best_predict(varlist,X_train, Y_train, X_test, Y_test)\n",
        "    r_list = r_list + [r]\n",
        "    \n",
        "plt.plot(r_list)"
      ],
      "execution_count": 80,
      "outputs": [
        {
          "output_type": "stream",
          "text": [
            "/usr/local/lib/python3.6/dist-packages/numpy/core/fromnumeric.py:2495: FutureWarning: Method .ptp is deprecated and will be removed in a future version. Use numpy.ptp instead.\n",
            "  return ptp(axis=axis, out=out, **kwargs)\n"
          ],
          "name": "stderr"
        },
        {
          "output_type": "stream",
          "text": [
            "Maximum r^2 [[0.59921666]]\n",
            "Columns ['OverallQual']\n",
            "Maximum r^2 [[0.69196698]]\n",
            "Columns ['OverallQual', 'GrLivArea']\n",
            "Maximum r^2 [[0.77649873]]\n",
            "Columns ['OverallQual', 'GrLivArea', 'BsmtFinSF1']\n",
            "Maximum r^2 [[0.80191941]]\n",
            "Columns ['OverallQual', 'GrLivArea', 'BsmtFinSF1', 'GarageArea']\n",
            "Maximum r^2 [[0.81620792]]\n",
            "Columns ['OverallQual', 'GrLivArea', 'BsmtFinSF1', 'GarageArea', 'YearRemodAdd']\n",
            "Maximum r^2 [[0.82464851]]\n",
            "Columns ['OverallQual', 'GrLivArea', 'BsmtFinSF1', 'GarageArea', 'YearRemodAdd', 'LotFrontage']\n",
            "Maximum r^2 [[0.82890115]]\n",
            "Columns ['OverallQual', 'GrLivArea', 'BsmtFinSF1', 'GarageArea', 'YearRemodAdd', 'LotFrontage', 'MasVnrArea']\n",
            "Maximum r^2 [[0.83263491]]\n",
            "Columns ['OverallQual', 'GrLivArea', 'BsmtFinSF1', 'GarageArea', 'YearRemodAdd', 'LotFrontage', 'MasVnrArea', 'BedroomAbvGr']\n",
            "Maximum r^2 [[0.83656153]]\n",
            "Columns ['OverallQual', 'GrLivArea', 'BsmtFinSF1', 'GarageArea', 'YearRemodAdd', 'LotFrontage', 'MasVnrArea', 'BedroomAbvGr', 'YearBuilt']\n",
            "Maximum r^2 [[0.84027685]]\n",
            "Columns ['OverallQual', 'GrLivArea', 'BsmtFinSF1', 'GarageArea', 'YearRemodAdd', 'LotFrontage', 'MasVnrArea', 'BedroomAbvGr', 'YearBuilt', 'OverallCond']\n",
            "Maximum r^2 [[0.84536993]]\n",
            "Columns ['OverallQual', 'GrLivArea', 'BsmtFinSF1', 'GarageArea', 'YearRemodAdd', 'LotFrontage', 'MasVnrArea', 'BedroomAbvGr', 'YearBuilt', 'OverallCond', 'TotalBsmtSF']\n",
            "Maximum r^2 [[0.84893915]]\n",
            "Columns ['OverallQual', 'GrLivArea', 'BsmtFinSF1', 'GarageArea', 'YearRemodAdd', 'LotFrontage', 'MasVnrArea', 'BedroomAbvGr', 'YearBuilt', 'OverallCond', 'TotalBsmtSF', 'TotRmsAbvGrd']\n",
            "Maximum r^2 [[0.85049804]]\n",
            "Columns ['OverallQual', 'GrLivArea', 'BsmtFinSF1', 'GarageArea', 'YearRemodAdd', 'LotFrontage', 'MasVnrArea', 'BedroomAbvGr', 'YearBuilt', 'OverallCond', 'TotalBsmtSF', 'TotRmsAbvGrd', 'KitchenAbvGr']\n",
            "Maximum r^2 [[0.85192504]]\n",
            "Columns ['OverallQual', 'GrLivArea', 'BsmtFinSF1', 'GarageArea', 'YearRemodAdd', 'LotFrontage', 'MasVnrArea', 'BedroomAbvGr', 'YearBuilt', 'OverallCond', 'TotalBsmtSF', 'TotRmsAbvGrd', 'KitchenAbvGr', 'LowQualFinSF']\n",
            "Maximum r^2 [[0.85281845]]\n",
            "Columns ['OverallQual', 'GrLivArea', 'BsmtFinSF1', 'GarageArea', 'YearRemodAdd', 'LotFrontage', 'MasVnrArea', 'BedroomAbvGr', 'YearBuilt', 'OverallCond', 'TotalBsmtSF', 'TotRmsAbvGrd', 'KitchenAbvGr', 'LowQualFinSF', 'GarageYrBlt']\n",
            "Maximum r^2 [[0.85382601]]\n",
            "Columns ['OverallQual', 'GrLivArea', 'BsmtFinSF1', 'GarageArea', 'YearRemodAdd', 'LotFrontage', 'MasVnrArea', 'BedroomAbvGr', 'YearBuilt', 'OverallCond', 'TotalBsmtSF', 'TotRmsAbvGrd', 'KitchenAbvGr', 'LowQualFinSF', 'GarageYrBlt', 'GarageCars']\n",
            "Maximum r^2 [[0.85459321]]\n",
            "Columns ['OverallQual', 'GrLivArea', 'BsmtFinSF1', 'GarageArea', 'YearRemodAdd', 'LotFrontage', 'MasVnrArea', 'BedroomAbvGr', 'YearBuilt', 'OverallCond', 'TotalBsmtSF', 'TotRmsAbvGrd', 'KitchenAbvGr', 'LowQualFinSF', 'GarageYrBlt', 'GarageCars', 'WoodDeckSF']\n",
            "Maximum r^2 [[0.85507058]]\n",
            "Columns ['OverallQual', 'GrLivArea', 'BsmtFinSF1', 'GarageArea', 'YearRemodAdd', 'LotFrontage', 'MasVnrArea', 'BedroomAbvGr', 'YearBuilt', 'OverallCond', 'TotalBsmtSF', 'TotRmsAbvGrd', 'KitchenAbvGr', 'LowQualFinSF', 'GarageYrBlt', 'GarageCars', 'WoodDeckSF', 'OpenPorchSF']\n",
            "Maximum r^2 [[0.8555044]]\n",
            "Columns ['OverallQual', 'GrLivArea', 'BsmtFinSF1', 'GarageArea', 'YearRemodAdd', 'LotFrontage', 'MasVnrArea', 'BedroomAbvGr', 'YearBuilt', 'OverallCond', 'TotalBsmtSF', 'TotRmsAbvGrd', 'KitchenAbvGr', 'LowQualFinSF', 'GarageYrBlt', 'GarageCars', 'WoodDeckSF', 'OpenPorchSF', 'BsmtHalfBath']\n",
            "Maximum r^2 [[0.85588333]]\n",
            "Columns ['OverallQual', 'GrLivArea', 'BsmtFinSF1', 'GarageArea', 'YearRemodAdd', 'LotFrontage', 'MasVnrArea', 'BedroomAbvGr', 'YearBuilt', 'OverallCond', 'TotalBsmtSF', 'TotRmsAbvGrd', 'KitchenAbvGr', 'LowQualFinSF', 'GarageYrBlt', 'GarageCars', 'WoodDeckSF', 'OpenPorchSF', 'BsmtHalfBath', 'BsmtFinSF2']\n"
          ],
          "name": "stdout"
        },
        {
          "output_type": "execute_result",
          "data": {
            "text/plain": [
              "[<matplotlib.lines.Line2D at 0x7fea1ec6c518>]"
            ]
          },
          "metadata": {
            "tags": []
          },
          "execution_count": 80
        },
        {
          "output_type": "display_data",
          "data": {
            "image/png": "[encoded data removed]",
            "text/plain": [
              "<Figure size 432x288 with 1 Axes>"
            ]
          },
          "metadata": {
            "tags": []
          }
        }
      ]
    },
    {
      "cell_type": "markdown",
      "metadata": {
        "id": "UMeIMlmPgePM",
        "colab_type": "text"
      },
      "source": [
        "## (Extra) Best subset selection and residual bootstrapping:\n",
        "\n",
        "Best subset selection is impractical on large arrays of variables, but it's good to understand how it can be implemented. The code below uses itertools to iterate over all subsets of the range. Notice though that even for subsets of size 3 it really begins to chugg. This naive version of best subset selection shouldn't be used for data sets with this many features. "
      ]
    },
    {
      "cell_type": "code",
      "metadata": {
        "id": "eWJdH56KgePM",
        "colab_type": "code",
        "colab": {
          "base_uri": "https://localhost:8080/",
          "height": 364
        },
        "outputId": "f28b5517-6272-40e2-fe06-cdda429c4195"
      },
      "source": [
        "r_list"
      ],
      "execution_count": 81,
      "outputs": [
        {
          "output_type": "execute_result",
          "data": {
            "text/plain": [
              "[0.5992166628878421,\n",
              " 0.6919669807754252,\n",
              " 0.7764987300637092,\n",
              " 0.8019194055187373,\n",
              " 0.8162079167954295,\n",
              " 0.824648507683916,\n",
              " 0.8289011515124444,\n",
              " 0.8326349072880086,\n",
              " 0.8365615311155922,\n",
              " 0.8402768485841623,\n",
              " 0.8453699346790543,\n",
              " 0.8489391460449448,\n",
              " 0.850498036874474,\n",
              " 0.8519250412322854,\n",
              " 0.8528184465142938,\n",
              " 0.853826008309104,\n",
              " 0.8545932144287394,\n",
              " 0.8550705769478655,\n",
              " 0.8555043995615726,\n",
              " 0.8558833302625115]"
            ]
          },
          "metadata": {
            "tags": []
          },
          "execution_count": 81
        }
      ]
    },
    {
      "cell_type": "code",
      "metadata": {
        "id": "vGUvFzQAgePO",
        "colab_type": "code",
        "colab": {
          "base_uri": "https://localhost:8080/",
          "height": 225
        },
        "outputId": "d0ab0731-4c35-43b2-aed5-20a64f840f5b"
      },
      "source": [
        "import itertools\n",
        "p = len(list(X_train)) # Number of featuers\n",
        "\n",
        "names = list(X_train)\n",
        "\n",
        "for d in range(1,3):\n",
        "\n",
        "    subsets = list(itertools.combinations(range(0,p), d))\n",
        "    print(p, \"features,\", len(subsets),\"subsets of length \", d)\n",
        "\n",
        "    fits = pd.DataFrame(columns=['cols','r sq train','r sq test','parameters'])\n",
        "\n",
        "    for s in subsets:\n",
        "        si = [names[i] for i in s]\n",
        "\n",
        "        lr = LinearRegression()\n",
        "        lr.fit(X_train[si],Y_train)\n",
        "\n",
        "        Y_head_lr = lr.predict(X_test[si])\n",
        "        rtr = Rs(Y_head_lr,Y_test)\n",
        "\n",
        "        Y_head_lr_train = lr.predict(X_train[si])\n",
        "        rte = Rs(Y_head_lr_train,Y_train)\n",
        "\n",
        "        fits = fits.append({'cols':s,'r sq train':rtr,'r sq test':rte,'parameters':lr.coef_},ignore_index=True)\n",
        "    \n",
        "    best = fits.sort_values(\"r sq test\",ascending=False).head(1)\n",
        "    print(best[['cols','r sq train','r sq test']])\n",
        "    print(best['parameters'])\n",
        "    print()"
      ],
      "execution_count": 83,
      "outputs": [
        {
          "output_type": "stream",
          "text": [
            "35 features, 35 subsets of length  1\n",
            "   cols            r sq train             r sq test\n",
            "2  (2,)  [[[[[0.59921666]]]]]  [[[[[0.64754491]]]]]\n",
            "2    [43068.09412890875]\n",
            "Name: parameters, dtype: object\n",
            "\n",
            "35 features, 595 subsets of length  2\n",
            "       cols            r sq train             r sq test\n",
            "78  (2, 14)  [[[[[0.69196698]]]]]  [[[[[0.73848328]]]]]\n",
            "78    [31753.983245043146, 55.949009835274175]\n",
            "Name: parameters, dtype: object\n",
            "\n"
          ],
          "name": "stdout"
        }
      ]
    },
    {
      "cell_type": "code",
      "metadata": {
        "id": "unzsRt5TgePP",
        "colab_type": "code",
        "colab": {}
      },
      "source": [
        ""
      ],
      "execution_count": 0,
      "outputs": []
    },
    {
      "cell_type": "code",
      "metadata": {
        "id": "bHA92YXSgePR",
        "colab_type": "code",
        "colab": {}
      },
      "source": [
        ""
      ],
      "execution_count": 0,
      "outputs": []
    },
    {
      "cell_type": "markdown",
      "metadata": {
        "id": "mWQjdjaLgePU",
        "colab_type": "text"
      },
      "source": [
        "## Exercise:\n",
        "\n",
        "Find the best single varaible to drop from the full linear linear fit. That is, do one step of backwards subset selection. "
      ]
    },
    {
      "cell_type": "code",
      "metadata": {
        "id": "Kxs5kk60gePu",
        "colab_type": "code",
        "colab": {
          "base_uri": "https://localhost:8080/",
          "height": 121
        },
        "outputId": "1433af01-b838-4018-ab0a-81c905362e1e"
      },
      "source": [
        "for d in range(1,2):\n",
        "\n",
        "    subsets = list(itertools.combinations(range(0,p), d))\n",
        "    print(p, \"features,\", len(subsets),\"subsets of length \", d)\n",
        "\n",
        "    fits = pd.DataFrame(columns=['cols','r sq train','r sq test','parameters'])\n",
        "\n",
        "    for s in subsets:\n",
        "        si = [names[i] for i in s]\n",
        "\n",
        "        lr = LinearRegression()\n",
        "        lr.fit(X_train[si],Y_train)\n",
        "\n",
        "        Y_head_lr = lr.predict(X_test[si])\n",
        "        rtr = Rs(Y_head_lr,Y_test)\n",
        "\n",
        "        Y_head_lr_train = lr.predict(X_train[si])\n",
        "        rte = Rs(Y_head_lr_train,Y_train)\n",
        "\n",
        "        fits = fits.append({'cols':s,'r sq train':rtr,'r sq test':rte,'parameters':lr.coef_},ignore_index=True)\n",
        "    \n",
        "    worst = fits.sort_values(\"r sq test\",ascending=True).head(1)\n",
        "    print(worst[['cols','r sq train','r sq test']])\n",
        "    print(worst['parameters'])\n",
        "    print()"
      ],
      "execution_count": 87,
      "outputs": [
        {
          "output_type": "stream",
          "text": [
            "35 features, 35 subsets of length  1\n",
            "     cols             r sq train                 r sq test\n",
            "34  (34,)  [[[[[-0.00127603]]]]]  [[[[[5.72719987e-05]]]]]\n",
            "34    [-415.0249224019083]\n",
            "Name: parameters, dtype: object\n",
            "\n"
          ],
          "name": "stdout"
        }
      ]
    },
    {
      "cell_type": "markdown",
      "metadata": {
        "id": "3a4V1wsngePy",
        "colab_type": "text"
      },
      "source": [
        "## Exercise:\n",
        "\n",
        "Keeping in mind that the training/test split was arbitrary, what do you expecct the best method for prediction on the Ames data set to be? Justify your answer. "
      ]
    },
    {
      "cell_type": "code",
      "metadata": {
        "id": "2rp9LRzLgePz",
        "colab_type": "code",
        "colab": {}
      },
      "source": [
        ""
      ],
      "execution_count": 0,
      "outputs": []
    },
    {
      "cell_type": "markdown",
      "metadata": {
        "id": "8zGaKTnDgeP1",
        "colab_type": "text"
      },
      "source": [
        "## Exercise:\n",
        "\n",
        "The `ols.fit_regularized(L1_wt=1,alpha=alp)` function alloes us to use eleastic net regression allow us to mix the ridge and lasso methods.\n",
        "\n",
        "Splitting the data using \n",
        "\n",
        "`train=data.sample(n=Test_Size,replace=False, random_state=200)`\n",
        "\n",
        "where the `random state` seed has been set to 200 will help normalized the results. What is the best pair $(\\alpha,\\lambda)$ to fit with?"
      ]
    },
    {
      "cell_type": "code",
      "metadata": {
        "id": "JZZjGd7ZgeP2",
        "colab_type": "code",
        "colab": {}
      },
      "source": [
        ""
      ],
      "execution_count": 0,
      "outputs": []
    },
    {
      "cell_type": "code",
      "metadata": {
        "id": "PdNWFP0UgeP9",
        "colab_type": "code",
        "colab": {}
      },
      "source": [
        ""
      ],
      "execution_count": 0,
      "outputs": []
    },
    {
      "cell_type": "markdown",
      "metadata": {
        "id": "mE2jy0Q6geP_",
        "colab_type": "text"
      },
      "source": [
        "## (Extra) Degrees of Freedom\n",
        "\n",
        "As we construct our various linear models, we want to compare them based on their degrees of freedom. Recall that the number of degrees of freedom of a model $\\hat h:\\mathcal{X}\\to \\mathcal{Y}$ with $\\hat y_i = h(\\hat x_i)$ is \n",
        "$$\n",
        "df(\\hat f) = \\frac{1}{\\sigma^2} \\sum_{i=1}^N \\text{Cov}(\\hat y_i,y_i) = \\frac{1}{\\sigma^2}\\text{Tr}\\big(\\text{Cov}(\\hat y,y)\\big)\n",
        "$$\n",
        "where the variance can be estimated by \n",
        "$$\n",
        "\\frac{1}{N-p-1}\\sum_{i=1}^N\n",
        "$$\n",
        "To estimate the covariance, we will use a method called __residual bootstraping__. The idea is to estimate the covariance by creating a discrete distribution $\\mathcal{R}$ of the residual errors \n",
        "$$\n",
        "\\mathcal{R}=\\{\\hat e_i = y_i-\\hat y_i\\}\\,,\n",
        "$$\n",
        "and repeatedly sampling it to estimate the covariance. Here, the hat on $\\hat e$ just indicates that this is dependent on the model fit $\\hat f$. \n",
        "\n",
        "The algorithm is:\n",
        "\n",
        "<div class=\"alert alert-block alert-success\">\n",
        "<b>Residual bootstraping</b><br>\n",
        "\n",
        "<ul>\n",
        "    <li>For $i=1,...,N$ create a new set of bootstrap samples $\\hat b_{i} = \\hat y_i + e$ where $e$ is drawn uniformly from the distribution of residuals $\\mathcal{R}$.</li>\n",
        "    <li>Recompute the fit $h^{(b)}$ on the samples $(x_i, b_i)$, and use the new sample data to compute $\\text{Cov}(b_i,y_i)$</li>\n",
        "    \n",
        "</ul>\n",
        "</div>"
      ]
    },
    {
      "cell_type": "markdown",
      "metadata": {
        "id": "f9CIsZOsgeP_",
        "colab_type": "text"
      },
      "source": [
        "## Problems:\n",
        "\n",
        "### Problem 1: Bootstrapping a Confidence Interval\n",
        "\n",
        "If we don't have a formula for the confidence interval of a statistic, we can often estimate it by sampling from out data set many times, computing the statistic of interest, and then plotting the distribution. This is known as __bootstrapping__ the confidence interval, since you're using the data to make estimates about your fits, effectively pulling yourself up by your bootstraps. In this problem, we will see how to boot strap the confidence interval for the $\\beta$ parameters in the linear fit. \n",
        "\n",
        "Lets return to the one variable examples of fitting the sales price to the first floor square footage __1stFlrSF__. Using a for loop, compute $\\beta_0$ and $\\beta_1$ 1000 times for samples of size $N = 1436$ _with replacement_ and store their results in vectors, as in the code below. \n"
      ]
    },
    {
      "cell_type": "code",
      "metadata": {
        "id": "3Nj0_w1YgeP_",
        "colab_type": "code",
        "colab": {
          "base_uri": "https://localhost:8080/",
          "height": 369
        },
        "outputId": "4866b3f8-1289-4d12-e4e4-75c0e2e53b3f"
      },
      "source": [
        "N = 1000\n",
        "\n",
        "beta0 = np.zeros(N)\n",
        "beta1 = np.zeros(N)\n",
        "\n",
        "for i in range(N):\n",
        "    ## Compute beta0 and beta1, using linear algebra, sklearn, or scipy\n",
        "    Test_Size = 1436\n",
        "    train=ames.sample(n=Test_Size,replace=False,random_state=i)\n",
        "    test=ames.drop(train.index)\n",
        "    ## up here we choose \"ames\" as the raw data, not the \"data\"\n",
        "    ## this gives us a more diversied result. But why the result \n",
        "    ## of data so unity that barely nothing to analyze?\n",
        "    X_train = train.drop(columns=['SalePrice','Id'])\n",
        "    Y_train = train['SalePrice']\n",
        "    X_test = test.drop(columns=['SalePrice','Id'])\n",
        "    Y_test = test['SalePrice']\n",
        "    X = np.matrix(X_train['1stFlrSF'])\n",
        "    Y = np.matrix(Y_train)\n",
        "    X = X.reshape(-1,1)\n",
        "    Y = Y.reshape(-1,1)\n",
        "    Xa = np.append(np.ones(X.shape),X,1)\n",
        "    betas = (Xa.T*Xa).I*Xa.T*Y\n",
        "    beta0[i] = round(betas[0].A1[0],2)\n",
        "    beta1[i] = round(betas[1].A1[0],2)\n",
        "\n",
        "beta0=np.sort(beta0)\n",
        "beta1=np.sort(beta1)\n",
        "#print(len(beta0),min(beta0),max(beta0))\n",
        "#print(len(beta1),min(beta1),max(beta1))\n",
        "print(\"The 95% confidential interval for beta_0 is({},{})\".format(beta0[24],beta0[974]))\n",
        "print(\"The 95% confidential interval for beta_1 is({},{})\".format(beta1[24],beta1[974]))\n",
        "f, axes= plt.subplots(1,2)\n",
        "f.set_size_inches(10,4)\n",
        "axes[0].hist(beta0)\n",
        "axes[1].hist(beta1)"
      ],
      "execution_count": 126,
      "outputs": [
        {
          "output_type": "stream",
          "text": [
            "The 95% confidential interval for beta_0 is(34137.06,38696.42)\n",
            "The 95% confidential interval for beta_1 is(122.08,126.14)\n"
          ],
          "name": "stdout"
        },
        {
          "output_type": "execute_result",
          "data": {
            "text/plain": [
              "(array([  5.,  32., 155., 719.,  69.,   4.,   0.,   2.,  11.,   3.]),\n",
              " array([119.43 , 120.903, 122.376, 123.849, 125.322, 126.795, 128.268,\n",
              "        129.741, 131.214, 132.687, 134.16 ]),\n",
              " <a list of 10 Patch objects>)"
            ]
          },
          "metadata": {
            "tags": []
          },
          "execution_count": 126
        },
        {
          "output_type": "display_data",
          "data": {
            "image/png": "[encoded data removed]",
            "text/plain": [
              "<Figure size 720x288 with 2 Axes>"
            ]
          },
          "metadata": {
            "tags": []
          }
        }
      ]
    },
    {
      "cell_type": "markdown",
      "metadata": {
        "id": "V4WJpOXAgeQB",
        "colab_type": "text"
      },
      "source": [
        "__Turn in__\n",
        "\n",
        "1. Plot a histogram of $\\beta_0$ and $\\beta_1$. \n",
        "2. Using `beta0.sort()`, sort the values and find the interval containing the middle 950 values. This is the bootstrap 95% confidence interval. \n",
        "3. Using the formulas from Lecture 3, compute the confidence interval using the $z$-score. Remember that here you use all of the training data. Compare your results. "
      ]
    },
    {
      "cell_type": "markdown",
      "metadata": {
        "id": "QLxCMRu5geQB",
        "colab_type": "text"
      },
      "source": [
        "### Problem 2: Linear Methods on High Dimensional Data\n",
        "\n",
        "Perform ridge regression and lasso regression on the MRI Slices dataset on blackboard. You should follow the __Loading the Viewing MRI Slices__ notebook, eventually loading all slices into Python as a data matrix, with all picture dimensions flattened. The text and code for that process has been reproduced below.\n",
        "\n",
        "We want to fit the MRI Slices data to the label __CDR__ in the labels data.\n",
        "\n",
        "\n",
        "__Turn in__: \n",
        "\n",
        "1. Given the train-test split with seed $255$, what is the best $\\alpha$ value for pure Ridge Regression? Justify your answer. \n",
        "2. Given the train-test split with seed $255$, what is the best $\\lambda$ value for pure Lasso Regression? Justify your answer. \n",
        "3. (Bonus) What is the best $(\\alpha,\\lambda)$ value for elastic net regression?\n",
        "\n",
        "You may set the downsample rate to higher you are unable to compute the linear model.\n",
        "\n",
        "### Load MRI All Files\n",
        "\n",
        "To load all of the files into an array we need to be able to search through the directory. Luckily, this is easy to do using the labels file, since each file name is stored there. We just need to loop through the __Filename__ column in the `labels` dataset and load them into an array one by one. There are 702 files in total. \n",
        "\n",
        "With the array there are two ways we can load them in: First, we can load them into a $702\\times 176 \\times 208$ array, which is the best option if we care about the 2D structure. However for algorithms like linear regression that done see the 2D structure, we may want to flatten the images to a $702\\times 36608$ array (note that $36608 = 176 \\times 208$). Its easy enough two switch back and forth between the two array structures later. We will start with the flattened array. "
      ]
    },
    {
      "cell_type": "code",
      "metadata": {
        "scrolled": true,
        "id": "0VCsS71ogeQC",
        "colab_type": "code",
        "colab": {
          "base_uri": "https://localhost:8080/",
          "height": 433
        },
        "outputId": "c312b24f-5aca-4a4c-b2d1-7e268c8484a8"
      },
      "source": [
        "import pandas as pd\n",
        "import numpy as np\n",
        "from matplotlib import pyplot as plt\n",
        "import matplotlib\n",
        "\n",
        "file_dir = 'C:/PATH_TO_IMAGE_DIRECTORY/'\n",
        "\n",
        "labels = pd.read_csv(file_dir + 'labels.csv')\n",
        "display(labels)"
      ],
      "execution_count": 127,
      "outputs": [
        {
          "output_type": "error",
          "ename": "FileNotFoundError",
          "evalue": "ignored",
          "traceback": [
            "\u001b[0;31m---------------------------------------------------------------------------\u001b[0m",
            "\u001b[0;31mFileNotFoundError\u001b[0m                         Traceback (most recent call last)",
            "\u001b[0;32m<ipython-input-127-6329fd0fe33d>\u001b[0m in \u001b[0;36m<module>\u001b[0;34m()\u001b[0m\n\u001b[1;32m      6\u001b[0m \u001b[0mfile_dir\u001b[0m \u001b[0;34m=\u001b[0m \u001b[0;34m'C:/PATH_TO_IMAGE_DIRECTORY/'\u001b[0m\u001b[0;34m\u001b[0m\u001b[0;34m\u001b[0m\u001b[0m\n\u001b[1;32m      7\u001b[0m \u001b[0;34m\u001b[0m\u001b[0m\n\u001b[0;32m----> 8\u001b[0;31m \u001b[0mlabels\u001b[0m \u001b[0;34m=\u001b[0m \u001b[0mpd\u001b[0m\u001b[0;34m.\u001b[0m\u001b[0mread_csv\u001b[0m\u001b[0;34m(\u001b[0m\u001b[0mfile_dir\u001b[0m \u001b[0;34m+\u001b[0m \u001b[0;34m'labels.csv'\u001b[0m\u001b[0;34m)\u001b[0m\u001b[0;34m\u001b[0m\u001b[0;34m\u001b[0m\u001b[0m\n\u001b[0m\u001b[1;32m      9\u001b[0m \u001b[0mdisplay\u001b[0m\u001b[0;34m(\u001b[0m\u001b[0mlabels\u001b[0m\u001b[0;34m)\u001b[0m\u001b[0;34m\u001b[0m\u001b[0;34m\u001b[0m\u001b[0m\n",
            "\u001b[0;32m/usr/local/lib/python3.6/dist-packages/pandas/io/parsers.py\u001b[0m in \u001b[0;36mparser_f\u001b[0;34m(filepath_or_buffer, sep, delimiter, header, names, index_col, usecols, squeeze, prefix, mangle_dupe_cols, dtype, engine, converters, true_values, false_values, skipinitialspace, skiprows, skipfooter, nrows, na_values, keep_default_na, na_filter, verbose, skip_blank_lines, parse_dates, infer_datetime_format, keep_date_col, date_parser, dayfirst, cache_dates, iterator, chunksize, compression, thousands, decimal, lineterminator, quotechar, quoting, doublequote, escapechar, comment, encoding, dialect, error_bad_lines, warn_bad_lines, delim_whitespace, low_memory, memory_map, float_precision)\u001b[0m\n\u001b[1;32m    683\u001b[0m         )\n\u001b[1;32m    684\u001b[0m \u001b[0;34m\u001b[0m\u001b[0m\n\u001b[0;32m--> 685\u001b[0;31m         \u001b[0;32mreturn\u001b[0m \u001b[0m_read\u001b[0m\u001b[0;34m(\u001b[0m\u001b[0mfilepath_or_buffer\u001b[0m\u001b[0;34m,\u001b[0m \u001b[0mkwds\u001b[0m\u001b[0;34m)\u001b[0m\u001b[0;34m\u001b[0m\u001b[0;34m\u001b[0m\u001b[0m\n\u001b[0m\u001b[1;32m    686\u001b[0m \u001b[0;34m\u001b[0m\u001b[0m\n\u001b[1;32m    687\u001b[0m     \u001b[0mparser_f\u001b[0m\u001b[0;34m.\u001b[0m\u001b[0m__name__\u001b[0m \u001b[0;34m=\u001b[0m \u001b[0mname\u001b[0m\u001b[0;34m\u001b[0m\u001b[0;34m\u001b[0m\u001b[0m\n",
            "\u001b[0;32m/usr/local/lib/python3.6/dist-packages/pandas/io/parsers.py\u001b[0m in \u001b[0;36m_read\u001b[0;34m(filepath_or_buffer, kwds)\u001b[0m\n\u001b[1;32m    455\u001b[0m \u001b[0;34m\u001b[0m\u001b[0m\n\u001b[1;32m    456\u001b[0m     \u001b[0;31m# Create the parser.\u001b[0m\u001b[0;34m\u001b[0m\u001b[0;34m\u001b[0m\u001b[0;34m\u001b[0m\u001b[0m\n\u001b[0;32m--> 457\u001b[0;31m     \u001b[0mparser\u001b[0m \u001b[0;34m=\u001b[0m \u001b[0mTextFileReader\u001b[0m\u001b[0;34m(\u001b[0m\u001b[0mfp_or_buf\u001b[0m\u001b[0;34m,\u001b[0m \u001b[0;34m**\u001b[0m\u001b[0mkwds\u001b[0m\u001b[0;34m)\u001b[0m\u001b[0;34m\u001b[0m\u001b[0;34m\u001b[0m\u001b[0m\n\u001b[0m\u001b[1;32m    458\u001b[0m \u001b[0;34m\u001b[0m\u001b[0m\n\u001b[1;32m    459\u001b[0m     \u001b[0;32mif\u001b[0m \u001b[0mchunksize\u001b[0m \u001b[0;32mor\u001b[0m \u001b[0miterator\u001b[0m\u001b[0;34m:\u001b[0m\u001b[0;34m\u001b[0m\u001b[0;34m\u001b[0m\u001b[0m\n",
            "\u001b[0;32m/usr/local/lib/python3.6/dist-packages/pandas/io/parsers.py\u001b[0m in \u001b[0;36m__init__\u001b[0;34m(self, f, engine, **kwds)\u001b[0m\n\u001b[1;32m    893\u001b[0m             \u001b[0mself\u001b[0m\u001b[0;34m.\u001b[0m\u001b[0moptions\u001b[0m\u001b[0;34m[\u001b[0m\u001b[0;34m\"has_index_names\"\u001b[0m\u001b[0;34m]\u001b[0m \u001b[0;34m=\u001b[0m \u001b[0mkwds\u001b[0m\u001b[0;34m[\u001b[0m\u001b[0;34m\"has_index_names\"\u001b[0m\u001b[0;34m]\u001b[0m\u001b[0;34m\u001b[0m\u001b[0;34m\u001b[0m\u001b[0m\n\u001b[1;32m    894\u001b[0m \u001b[0;34m\u001b[0m\u001b[0m\n\u001b[0;32m--> 895\u001b[0;31m         \u001b[0mself\u001b[0m\u001b[0;34m.\u001b[0m\u001b[0m_make_engine\u001b[0m\u001b[0;34m(\u001b[0m\u001b[0mself\u001b[0m\u001b[0;34m.\u001b[0m\u001b[0mengine\u001b[0m\u001b[0;34m)\u001b[0m\u001b[0;34m\u001b[0m\u001b[0;34m\u001b[0m\u001b[0m\n\u001b[0m\u001b[1;32m    896\u001b[0m \u001b[0;34m\u001b[0m\u001b[0m\n\u001b[1;32m    897\u001b[0m     \u001b[0;32mdef\u001b[0m \u001b[0mclose\u001b[0m\u001b[0;34m(\u001b[0m\u001b[0mself\u001b[0m\u001b[0;34m)\u001b[0m\u001b[0;34m:\u001b[0m\u001b[0;34m\u001b[0m\u001b[0;34m\u001b[0m\u001b[0m\n",
            "\u001b[0;32m/usr/local/lib/python3.6/dist-packages/pandas/io/parsers.py\u001b[0m in \u001b[0;36m_make_engine\u001b[0;34m(self, engine)\u001b[0m\n\u001b[1;32m   1133\u001b[0m     \u001b[0;32mdef\u001b[0m \u001b[0m_make_engine\u001b[0m\u001b[0;34m(\u001b[0m\u001b[0mself\u001b[0m\u001b[0;34m,\u001b[0m \u001b[0mengine\u001b[0m\u001b[0;34m=\u001b[0m\u001b[0;34m\"c\"\u001b[0m\u001b[0;34m)\u001b[0m\u001b[0;34m:\u001b[0m\u001b[0;34m\u001b[0m\u001b[0;34m\u001b[0m\u001b[0m\n\u001b[1;32m   1134\u001b[0m         \u001b[0;32mif\u001b[0m \u001b[0mengine\u001b[0m \u001b[0;34m==\u001b[0m \u001b[0;34m\"c\"\u001b[0m\u001b[0;34m:\u001b[0m\u001b[0;34m\u001b[0m\u001b[0;34m\u001b[0m\u001b[0m\n\u001b[0;32m-> 1135\u001b[0;31m             \u001b[0mself\u001b[0m\u001b[0;34m.\u001b[0m\u001b[0m_engine\u001b[0m \u001b[0;34m=\u001b[0m \u001b[0mCParserWrapper\u001b[0m\u001b[0;34m(\u001b[0m\u001b[0mself\u001b[0m\u001b[0;34m.\u001b[0m\u001b[0mf\u001b[0m\u001b[0;34m,\u001b[0m \u001b[0;34m**\u001b[0m\u001b[0mself\u001b[0m\u001b[0;34m.\u001b[0m\u001b[0moptions\u001b[0m\u001b[0;34m)\u001b[0m\u001b[0;34m\u001b[0m\u001b[0;34m\u001b[0m\u001b[0m\n\u001b[0m\u001b[1;32m   1136\u001b[0m         \u001b[0;32melse\u001b[0m\u001b[0;34m:\u001b[0m\u001b[0;34m\u001b[0m\u001b[0;34m\u001b[0m\u001b[0m\n\u001b[1;32m   1137\u001b[0m             \u001b[0;32mif\u001b[0m \u001b[0mengine\u001b[0m \u001b[0;34m==\u001b[0m \u001b[0;34m\"python\"\u001b[0m\u001b[0;34m:\u001b[0m\u001b[0;34m\u001b[0m\u001b[0;34m\u001b[0m\u001b[0m\n",
            "\u001b[0;32m/usr/local/lib/python3.6/dist-packages/pandas/io/parsers.py\u001b[0m in \u001b[0;36m__init__\u001b[0;34m(self, src, **kwds)\u001b[0m\n\u001b[1;32m   1915\u001b[0m         \u001b[0mkwds\u001b[0m\u001b[0;34m[\u001b[0m\u001b[0;34m\"usecols\"\u001b[0m\u001b[0;34m]\u001b[0m \u001b[0;34m=\u001b[0m \u001b[0mself\u001b[0m\u001b[0;34m.\u001b[0m\u001b[0musecols\u001b[0m\u001b[0;34m\u001b[0m\u001b[0;34m\u001b[0m\u001b[0m\n\u001b[1;32m   1916\u001b[0m \u001b[0;34m\u001b[0m\u001b[0m\n\u001b[0;32m-> 1917\u001b[0;31m         \u001b[0mself\u001b[0m\u001b[0;34m.\u001b[0m\u001b[0m_reader\u001b[0m \u001b[0;34m=\u001b[0m \u001b[0mparsers\u001b[0m\u001b[0;34m.\u001b[0m\u001b[0mTextReader\u001b[0m\u001b[0;34m(\u001b[0m\u001b[0msrc\u001b[0m\u001b[0;34m,\u001b[0m \u001b[0;34m**\u001b[0m\u001b[0mkwds\u001b[0m\u001b[0;34m)\u001b[0m\u001b[0;34m\u001b[0m\u001b[0;34m\u001b[0m\u001b[0m\n\u001b[0m\u001b[1;32m   1918\u001b[0m         \u001b[0mself\u001b[0m\u001b[0;34m.\u001b[0m\u001b[0munnamed_cols\u001b[0m \u001b[0;34m=\u001b[0m \u001b[0mself\u001b[0m\u001b[0;34m.\u001b[0m\u001b[0m_reader\u001b[0m\u001b[0;34m.\u001b[0m\u001b[0munnamed_cols\u001b[0m\u001b[0;34m\u001b[0m\u001b[0;34m\u001b[0m\u001b[0m\n\u001b[1;32m   1919\u001b[0m \u001b[0;34m\u001b[0m\u001b[0m\n",
            "\u001b[0;32mpandas/_libs/parsers.pyx\u001b[0m in \u001b[0;36mpandas._libs.parsers.TextReader.__cinit__\u001b[0;34m()\u001b[0m\n",
            "\u001b[0;32mpandas/_libs/parsers.pyx\u001b[0m in \u001b[0;36mpandas._libs.parsers.TextReader._setup_parser_source\u001b[0;34m()\u001b[0m\n",
            "\u001b[0;31mFileNotFoundError\u001b[0m: [Errno 2] File b'C:/PATH_TO_IMAGE_DIRECTORY/labels.csv' does not exist: b'C:/PATH_TO_IMAGE_DIRECTORY/labels.csv'"
          ]
        }
      ]
    },
    {
      "cell_type": "code",
      "metadata": {
        "id": "Dygcjm8HgeQD",
        "colab_type": "code",
        "colab": {}
      },
      "source": [
        "DS = 8             # Downsample rate, must be a multiple of 36608\n",
        "\n",
        "if 36608/DS % 1 > 0:\n",
        "    print(\"Downsample rate is not a multiple of 36608\")\n",
        "    DS = 1\n",
        "    im_size = 36608\n",
        "else:\n",
        "    im_size = int(36608/DS)\n",
        "\n",
        "\n",
        "data = np.zeros([702, im_size])\n",
        "\n",
        "for i, file_name in enumerate(labels.Filename):\n",
        "    img = np.mean(matplotlib.image.imread(file_dir + file_name),axis=2).reshape(-1)\n",
        "    data[i,:] = img[::DS]            # Downsample the image"
      ],
      "execution_count": 0,
      "outputs": []
    },
    {
      "cell_type": "code",
      "metadata": {
        "id": "K2QncnUrgeQF",
        "colab_type": "code",
        "colab": {}
      },
      "source": [
        ""
      ],
      "execution_count": 0,
      "outputs": []
    }
  ]
}